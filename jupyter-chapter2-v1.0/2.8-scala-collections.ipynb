{
 "cells": [
  {
   "cell_type": "markdown",
   "metadata": {},
   "source": [
    "## Kapitel 2"
   ]
  },
  {
   "cell_type": "markdown",
   "metadata": {},
   "source": [
    "# 2.8 Scala Collections"
   ]
  },
  {
   "cell_type": "markdown",
   "metadata": {},
   "source": [
    "### Überblick"
   ]
  },
  {
   "cell_type": "markdown",
   "metadata": {},
   "source": [
    "- Kollektionen in Scala sind entweder immutable oder mutable\n",
    "- Eine mutable Kollektion kann aktualisiert werden, d.h. Elemente der Kollektion können verändert werden oder es können neue Elemente der Kollektion hinzugefügt oder bestehende von ihr entfernt werden\n",
    "- Eine immutable Kollektion kann niemals im zuvor genannten Sinne verändert werden, sie verhält sich in ihrer Gesamtheit wie eine Konstante\n",
    "- Das Hinzufügen, Entfernen oder Modifizieren von Elementen einer immutablen Kollektion kann jedoch simuliert werden, in dem die Ausführung solcher Operationen eine neue Kollektion erzeugt, die ursprüngliche aber unverändert bleibt\n",
    "- Die meisten Kollektionen werden durch die Pakete scala.collection, scala.collection.immutable und scala.collection.mutable zur Verfügung gestellt\n",
    "- Kollektionen aus scala.collection sind lediglich abstrakte Klassen oder Traits, welche Supertypen ihrer immutablen und mutablen Gegenstücke sind\n",
    "- Standardmäßig sind Kollektionen immutable"
   ]
  },
  {
   "cell_type": "markdown",
   "metadata": {},
   "source": [
    "scala.collection"
   ]
  },
  {
   "cell_type": "markdown",
   "metadata": {},
   "source": [
    "<img src=\"figure-2-7.png\" />"
   ]
  },
  {
   "cell_type": "markdown",
   "metadata": {},
   "source": [
    "scala.collection.immutable"
   ]
  },
  {
   "cell_type": "markdown",
   "metadata": {},
   "source": [
    "<img src=\"figure-2-8.png\" />"
   ]
  },
  {
   "cell_type": "markdown",
   "metadata": {},
   "source": [
    "scala.collection.mutable"
   ]
  },
  {
   "cell_type": "markdown",
   "metadata": {},
   "source": [
    "<img src=\"figure-2-9.png\" />"
   ]
  },
  {
   "cell_type": "markdown",
   "metadata": {},
   "source": [
    "### Listen"
   ]
  },
  {
   "cell_type": "markdown",
   "metadata": {},
   "source": [
    "- List realisiert einfach verlinkte Listen, ist immutable und covariant\n",
    "- Veränderung an einer Liste führen zum Erzeugen einer neuen Liste\n",
    "- Einfügen eines Elements am Kopf der Liste hat einen Aufwand O(1), am Ende der Liste O(n)\n",
    "- Möglichkeiten zum Erzeugen von Listen\n",
    "- Anwendung der Factory-Methode auf dem Companion-Objekt von List\n",
    "- Anwendung des ::-Operators (Cons-Operator) auf der leeren Listen\n",
    "- Erzeugung einer leeren Liste mit der Methode empty\n",
    "- Elemente eine leeren Liste werden durch den Datentyp Nothing repräsentiert\n",
    "- Listen sind covariant, d.h. die beim Hinzufügen von Elementen erzeugte Liste kann einen anderen Typ haben als die ursprüngliche Liste"
   ]
  },
  {
   "cell_type": "code",
   "execution_count": null,
   "metadata": {
    "collapsed": false
   },
   "outputs": [],
   "source": [
    "val number=List(32, 95, 34, 23)"
   ]
  },
  {
   "cell_type": "code",
   "execution_count": null,
   "metadata": {
    "collapsed": false
   },
   "outputs": [],
   "source": [
    "val colors=List(\"red\", \"green\", \"blue\")"
   ]
  },
  {
   "cell_type": "code",
   "execution_count": null,
   "metadata": {
    "collapsed": true
   },
   "outputs": [],
   "source": []
  },
  {
   "cell_type": "code",
   "execution_count": null,
   "metadata": {
    "collapsed": false
   },
   "outputs": [],
   "source": [
    "val l=1::2::3"
   ]
  },
  {
   "cell_type": "code",
   "execution_count": null,
   "metadata": {
    "collapsed": true
   },
   "outputs": [],
   "source": []
  },
  {
   "cell_type": "code",
   "execution_count": null,
   "metadata": {
    "collapsed": false
   },
   "outputs": [],
   "source": [
    "val eList=List.empty"
   ]
  },
  {
   "cell_type": "code",
   "execution_count": null,
   "metadata": {
    "collapsed": false
   },
   "outputs": [],
   "source": [
    "\"Hallo\"::\"Welt\"::eList"
   ]
  },
  {
   "cell_type": "code",
   "execution_count": null,
   "metadata": {
    "collapsed": true
   },
   "outputs": [],
   "source": []
  },
  {
   "cell_type": "code",
   "execution_count": null,
   "metadata": {
    "collapsed": true
   },
   "outputs": [],
   "source": []
  },
  {
   "cell_type": "code",
   "execution_count": null,
   "metadata": {
    "collapsed": false
   },
   "outputs": [],
   "source": [
    "val l1=3::Nil"
   ]
  },
  {
   "cell_type": "code",
   "execution_count": null,
   "metadata": {
    "collapsed": false
   },
   "outputs": [],
   "source": [
    "val l2=2.0::l1"
   ]
  },
  {
   "cell_type": "code",
   "execution_count": null,
   "metadata": {
    "collapsed": false
   },
   "outputs": [],
   "source": [
    "val l3=\"1\"::l2"
   ]
  },
  {
   "cell_type": "markdown",
   "metadata": {},
   "source": [
    "- Zahlreiche Funktionen auf Listen\n",
    "- Achtung: List ist immutable, d.h. Funktionen wie tail, init, reverse, slice etc. legen neue Listen an\n",
    "- apply-Methode auf einem Listenobjekt liefert das angegebene Listenelement\n",
    "- Ändern von Elementen in Listen ist nicht erlaubt"
   ]
  },
  {
   "cell_type": "code",
   "execution_count": null,
   "metadata": {
    "collapsed": false
   },
   "outputs": [],
   "source": [
    "val iList=List(1,2,3,4,5)"
   ]
  },
  {
   "cell_type": "code",
   "execution_count": null,
   "metadata": {
    "collapsed": false
   },
   "outputs": [],
   "source": [
    "iList.size"
   ]
  },
  {
   "cell_type": "code",
   "execution_count": null,
   "metadata": {
    "collapsed": false
   },
   "outputs": [],
   "source": [
    "iList.tail"
   ]
  },
  {
   "cell_type": "code",
   "execution_count": null,
   "metadata": {
    "collapsed": false
   },
   "outputs": [],
   "source": [
    "iList.init"
   ]
  },
  {
   "cell_type": "code",
   "execution_count": null,
   "metadata": {
    "collapsed": false
   },
   "outputs": [],
   "source": [
    "iList.head"
   ]
  },
  {
   "cell_type": "code",
   "execution_count": null,
   "metadata": {
    "collapsed": false
   },
   "outputs": [],
   "source": [
    "iList.last"
   ]
  },
  {
   "cell_type": "code",
   "execution_count": null,
   "metadata": {
    "collapsed": false
   },
   "outputs": [],
   "source": [
    "iList.reverse"
   ]
  },
  {
   "cell_type": "code",
   "execution_count": null,
   "metadata": {
    "collapsed": false
   },
   "outputs": [],
   "source": [
    "iList.slice(0,2)"
   ]
  },
  {
   "cell_type": "code",
   "execution_count": null,
   "metadata": {
    "collapsed": false
   },
   "outputs": [],
   "source": [
    "iList.drop(2)"
   ]
  },
  {
   "cell_type": "code",
   "execution_count": null,
   "metadata": {
    "collapsed": false
   },
   "outputs": [],
   "source": [
    "iList"
   ]
  },
  {
   "cell_type": "code",
   "execution_count": null,
   "metadata": {
    "collapsed": false
   },
   "outputs": [],
   "source": [
    "iList(3)"
   ]
  },
  {
   "cell_type": "code",
   "execution_count": null,
   "metadata": {
    "collapsed": false
   },
   "outputs": [],
   "source": [
    "iList(3)=5"
   ]
  },
  {
   "cell_type": "code",
   "execution_count": null,
   "metadata": {
    "collapsed": false
   },
   "outputs": [],
   "source": [
    "iList +=23"
   ]
  },
  {
   "cell_type": "markdown",
   "metadata": {},
   "source": [
    "### Mutable Lists\n",
    "- Beispiele für mutable Listen sind MutableList, ListBuffer und LinkedList (veraltet)\n",
    "- Alle mutablen Collections müssen vor Verwendung importiert werden\n",
    "- MutableList ist eine mutable verkettete Liste\n",
    "- Ändern von Elementen ist erlaubt\n",
    "- Hinzufügen von Elementen am Ende der Liste mit +=\n",
    "- Löschen von Elementen mit -= geht nicht, da MutableList den Trait Shrinkable nicht implementiert\n",
    "- Alternative diff: berechnet die Differenz zwischen der Liste und einer übergebenen Sequenz (aber das Resultat ist eine neu im speicher angelegte Liste)  "
   ]
  },
  {
   "cell_type": "code",
   "execution_count": null,
   "metadata": {
    "collapsed": false
   },
   "outputs": [],
   "source": [
    "import scala.collection.mutable.MutableList"
   ]
  },
  {
   "cell_type": "code",
   "execution_count": null,
   "metadata": {
    "collapsed": false
   },
   "outputs": [],
   "source": [
    "var lList=MutableList(1,2,3,4,5)"
   ]
  },
  {
   "cell_type": "code",
   "execution_count": null,
   "metadata": {
    "collapsed": false
   },
   "outputs": [],
   "source": [
    "lList(3)=10"
   ]
  },
  {
   "cell_type": "code",
   "execution_count": null,
   "metadata": {
    "collapsed": false
   },
   "outputs": [],
   "source": [
    "lList"
   ]
  },
  {
   "cell_type": "code",
   "execution_count": null,
   "metadata": {
    "collapsed": false
   },
   "outputs": [],
   "source": [
    "lList=MutableList(10,9,8)"
   ]
  },
  {
   "cell_type": "code",
   "execution_count": null,
   "metadata": {
    "collapsed": false
   },
   "outputs": [],
   "source": [
    "lList"
   ]
  },
  {
   "cell_type": "code",
   "execution_count": null,
   "metadata": {
    "collapsed": false
   },
   "outputs": [],
   "source": [
    "lList += 11"
   ]
  },
  {
   "cell_type": "code",
   "execution_count": null,
   "metadata": {
    "collapsed": false
   },
   "outputs": [],
   "source": [
    "lList +=12"
   ]
  },
  {
   "cell_type": "code",
   "execution_count": null,
   "metadata": {
    "collapsed": false
   },
   "outputs": [],
   "source": [
    "lList += (25,26,27)"
   ]
  },
  {
   "cell_type": "code",
   "execution_count": null,
   "metadata": {
    "collapsed": false
   },
   "outputs": [],
   "source": [
    "lList -= 2"
   ]
  },
  {
   "cell_type": "code",
   "execution_count": null,
   "metadata": {
    "collapsed": false
   },
   "outputs": [],
   "source": [
    "lList.diff(Seq(10))"
   ]
  },
  {
   "cell_type": "code",
   "execution_count": null,
   "metadata": {
    "collapsed": false
   },
   "outputs": [],
   "source": [
    "lList.diff(Seq(25,26,27))"
   ]
  },
  {
   "cell_type": "code",
   "execution_count": null,
   "metadata": {
    "collapsed": false
   },
   "outputs": [],
   "source": [
    "lList"
   ]
  },
  {
   "cell_type": "code",
   "execution_count": null,
   "metadata": {
    "collapsed": false
   },
   "outputs": [],
   "source": [
    "var mList=MutableList(1, 2, 3, 10, 5, 11, 12, 25, 26, 27)"
   ]
  },
  {
   "cell_type": "code",
   "execution_count": null,
   "metadata": {
    "collapsed": false
   },
   "outputs": [],
   "source": [
    "mList=mList.diff(Seq(25,26,27))"
   ]
  },
  {
   "cell_type": "code",
   "execution_count": null,
   "metadata": {
    "collapsed": false
   },
   "outputs": [],
   "source": [
    "mList"
   ]
  },
  {
   "cell_type": "markdown",
   "metadata": {},
   "source": [
    "- Alternative: ListBuffer\n",
    "- Hinzufügen von Elementen mit +=\n",
    "- Entfernen des spezifizierten Elements mit -=\n",
    "- Hinzufügen und Entfernen auf Elementen werden auf der Liste angewendet, es wird keine Kopie erzeugt\n",
    "- Einfügen eines Elements an einer bestimmten Position mit insert"
   ]
  },
  {
   "cell_type": "code",
   "execution_count": null,
   "metadata": {
    "collapsed": false
   },
   "outputs": [],
   "source": [
    "import scala.collection.mutable.ListBuffer"
   ]
  },
  {
   "cell_type": "code",
   "execution_count": null,
   "metadata": {
    "collapsed": false
   },
   "outputs": [],
   "source": [
    "val lBuffer=ListBuffer(\"Fortgeschrittene\", \"Programmierung\", \"mit\", \"Java\")"
   ]
  },
  {
   "cell_type": "code",
   "execution_count": null,
   "metadata": {
    "collapsed": false
   },
   "outputs": [],
   "source": [
    "lBuffer -= \"Java\""
   ]
  },
  {
   "cell_type": "code",
   "execution_count": null,
   "metadata": {
    "collapsed": false
   },
   "outputs": [],
   "source": [
    "lBuffer += \"Scala\""
   ]
  },
  {
   "cell_type": "code",
   "execution_count": null,
   "metadata": {
    "collapsed": false
   },
   "outputs": [],
   "source": [
    "lBuffer -= \"Fortgeschrittene\""
   ]
  },
  {
   "cell_type": "code",
   "execution_count": null,
   "metadata": {
    "collapsed": false
   },
   "outputs": [],
   "source": [
    "lBuffer(0)=\"Anfängliche\""
   ]
  },
  {
   "cell_type": "code",
   "execution_count": null,
   "metadata": {
    "collapsed": false
   },
   "outputs": [],
   "source": [
    "lBuffer"
   ]
  },
  {
   "cell_type": "code",
   "execution_count": null,
   "metadata": {
    "collapsed": false
   },
   "outputs": [],
   "source": [
    "lBuffer.insert(1, \"Programmierung\")"
   ]
  },
  {
   "cell_type": "code",
   "execution_count": null,
   "metadata": {
    "collapsed": false
   },
   "outputs": [],
   "source": [
    "lBuffer"
   ]
  },
  {
   "cell_type": "markdown",
   "metadata": {},
   "source": [
    "- Mit for-Schleifen kann durch Listen iteriert werden\n",
    "- Funktionen höherer Ordnung zum Iterieren, Konvertieren und Reduzieren von Listen\n",
    "- Funktionswerte als Parameter der höheren Funktionen bestimmen ihr konkretes Verhalten\n",
    "- foreach: wendet eine Prozedur (!) auf jedes Element der Liste an (3)\n",
    "- map: wendet eine Funktion zum Konvertieren der Elemente einer Liste an (4)\n",
    "- reduce: wendet eine Funktion zur Kombination zweier Listenelemente an (5)"
   ]
  },
  {
   "cell_type": "code",
   "execution_count": null,
   "metadata": {
    "collapsed": false
   },
   "outputs": [],
   "source": [
    "val numbers=List(32,95,24,21,17)"
   ]
  },
  {
   "cell_type": "code",
   "execution_count": null,
   "metadata": {
    "collapsed": false
   },
   "outputs": [],
   "source": [
    "var total=0; for (i<-numbers) {total+=i}"
   ]
  },
  {
   "cell_type": "code",
   "execution_count": null,
   "metadata": {
    "collapsed": false
   },
   "outputs": [],
   "source": [
    "val colors=List(\"red\", \"green\", \"blue\")"
   ]
  },
  {
   "cell_type": "code",
   "execution_count": null,
   "metadata": {
    "collapsed": false
   },
   "outputs": [],
   "source": [
    "for (c<-colors) {println(c)}"
   ]
  },
  {
   "cell_type": "code",
   "execution_count": null,
   "metadata": {
    "collapsed": false
   },
   "outputs": [],
   "source": [
    "colors.foreach((c: String)=>println(c))"
   ]
  },
  {
   "cell_type": "code",
   "execution_count": null,
   "metadata": {
    "collapsed": false
   },
   "outputs": [],
   "source": [
    "val sizes=colors.map((c:String)=>c.size)"
   ]
  },
  {
   "cell_type": "code",
   "execution_count": null,
   "metadata": {
    "collapsed": false
   },
   "outputs": [],
   "source": [
    "val total=numbers.reduce((a: Int, b: Int)=>a+b)"
   ]
  },
  {
   "cell_type": "markdown",
   "metadata": {},
   "source": [
    "### Sets"
   ]
  },
  {
   "cell_type": "markdown",
   "metadata": {},
   "source": [
    "- Set realisiert mathematische Mengen, ist immutable oder mutable und invariant\n",
    "- Erzeugung mit der Factory-Methode auf dem Companion-Objekt\n",
    "- Aufgrund der Invarianz muss bei Erzeugung leerer Mengen der Datentyp angegeben werden\n",
    "- Möglichkeiten zum Erzeugen von Menge\n",
    "- Anwendung der Factory-Methode auf dem Companion-Objekt von Set (1)\n",
    "- Erzeugung einer leeren Menge mit der Methode empty\n",
    "- Anfügen von Elementen auf einer leeren Menge mit dem +-Operator\n",
    "- apply-Methode auf dem Mengenobjekt prüft, ob der angegebene Wert Mitglied der Menge ist (4,5)"
   ]
  },
  {
   "cell_type": "code",
   "execution_count": null,
   "metadata": {
    "collapsed": false
   },
   "outputs": [],
   "source": [
    "val unique=Set(10, 20, 30, 40)"
   ]
  },
  {
   "cell_type": "code",
   "execution_count": null,
   "metadata": {
    "collapsed": false
   },
   "outputs": [],
   "source": [
    "unique(10)"
   ]
  },
  {
   "cell_type": "code",
   "execution_count": null,
   "metadata": {
    "collapsed": true
   },
   "outputs": [],
   "source": []
  },
  {
   "cell_type": "markdown",
   "metadata": {},
   "source": [
    "### Maps"
   ]
  },
  {
   "cell_type": "markdown",
   "metadata": {},
   "source": [
    "- Map realisiert einen Key/Value-Store, d.h. Key-Werte werden auf Value-Werte abgebildet\n",
    "- Erzeugung eines Key-Value-Pairs durch Trennung von Key und Value mit ->\n",
    "- Erzeugung von Maps als Liste von Key-Value-Pairs (2) oder als Einzelelemente konkateniert mit + (3)\n",
    "- Map ist invariant bezüglich des Datentyps für den Schlüssel (4) und covariant in Bezug auf den Datentyp für den Wert (5)\n",
    "- Mittels apply kann durch Übergabe der Key-Wertes der Value-Wert ermittelt werden (6)\n",
    "- Fehlermeldung falls kein Value-Wert für den Key-Wert definiert ist (7)\n",
    "- Mit contain kann überprüft werden, ob ein Eintrag für einen bestimmten Key existiert (8)"
   ]
  },
  {
   "cell_type": "code",
   "execution_count": null,
   "metadata": {
    "collapsed": false
   },
   "outputs": [],
   "source": [
    "val wday=Map(1->\"Mo\", 2->\"Di\", 3->\"Mi\", 4->\"Do\", 5->\"Fr\")"
   ]
  },
  {
   "cell_type": "code",
   "execution_count": null,
   "metadata": {
    "collapsed": false
   },
   "outputs": [],
   "source": [
    "wday(2)"
   ]
  },
  {
   "cell_type": "code",
   "execution_count": null,
   "metadata": {
    "collapsed": true
   },
   "outputs": [],
   "source": []
  },
  {
   "cell_type": "code",
   "execution_count": null,
   "metadata": {
    "collapsed": true
   },
   "outputs": [],
   "source": []
  },
  {
   "cell_type": "markdown",
   "metadata": {},
   "source": [
    "### Typ-Parameter"
   ]
  },
  {
   "cell_type": "markdown",
   "metadata": {},
   "source": [
    "- Ein Typ-Parameter ist ein Platzhalter für einen Datentyp, der erst zur Laufzeit festgelegt wird\n",
    "- Typ-Parameter werden durch eckige Klammern repräsentiert und stehen immer vor runden oder geschweiften Klammern (1)\n",
    "- Datentypen, die einen oder mehrere Typ-Parameter besitzen, werden als generische Typen bezeichnet\n",
    "- Unterschied zu Generics: Scala ermöglicht die Definition von Typeinschränkungen, d.h. eine Fixierung erlaubter Sub- und Supertypen bei Typ-Parametern\n",
    "- Konvention: Typ-Parameter werden meistens durch Großbuchstaben repräsentiert, z.B. T (für Typ), E (für Element), K (für Key), V (für Value)"
   ]
  },
  {
   "cell_type": "code",
   "execution_count": null,
   "metadata": {
    "collapsed": false
   },
   "outputs": [],
   "source": [
    "abstract class Fruit {def name: String}"
   ]
  },
  {
   "cell_type": "code",
   "execution_count": null,
   "metadata": {
    "collapsed": false
   },
   "outputs": [],
   "source": [
    "class Orange extends Fruit {def name=\"Orange\"}"
   ]
  },
  {
   "cell_type": "code",
   "execution_count": null,
   "metadata": {
    "collapsed": false
   },
   "outputs": [],
   "source": [
    "class Apple extends Fruit {def name=\"Apple\"}"
   ]
  },
  {
   "cell_type": "code",
   "execution_count": null,
   "metadata": {
    "collapsed": false
   },
   "outputs": [],
   "source": [
    "abstract class Box {\n",
    "    def fruit: Fruit\n",
    "    def contains(aFruit: Fruit)=fruit.name.equals(aFruit.name)\n",
    "}"
   ]
  },
  {
   "cell_type": "code",
   "execution_count": null,
   "metadata": {
    "collapsed": true
   },
   "outputs": [],
   "source": []
  },
  {
   "cell_type": "code",
   "execution_count": null,
   "metadata": {
    "collapsed": true
   },
   "outputs": [],
   "source": []
  },
  {
   "cell_type": "markdown",
   "metadata": {},
   "source": [
    "Verfahren ohne Typ-Paramter: für jeden Datentyp den Box aufnehmen kann, müsste eine dedizierte Klasse geschrieben werden"
   ]
  },
  {
   "cell_type": "code",
   "execution_count": null,
   "metadata": {
    "collapsed": false
   },
   "outputs": [],
   "source": [
    "class OrangeBox(orange: Orange) extends Box {\n",
    "    def fruit: Orange=orange\n",
    "}"
   ]
  },
  {
   "cell_type": "code",
   "execution_count": null,
   "metadata": {
    "collapsed": false
   },
   "outputs": [],
   "source": [
    "class AppleBox(apple: Apple) extends Box {\n",
    "    def fruit: Apple=apple\n",
    "}"
   ]
  },
  {
   "cell_type": "code",
   "execution_count": null,
   "metadata": {
    "collapsed": true
   },
   "outputs": [],
   "source": []
  },
  {
   "cell_type": "code",
   "execution_count": null,
   "metadata": {
    "collapsed": true
   },
   "outputs": [],
   "source": []
  },
  {
   "cell_type": "markdown",
   "metadata": {},
   "source": [
    "Verfahren mit Typ-Parameter: Typ der Objekte, die Box aufnehmen kann, wird als Typ-Paramter übergeben"
   ]
  },
  {
   "cell_type": "code",
   "execution_count": null,
   "metadata": {
    "collapsed": false
   },
   "outputs": [],
   "source": [
    "class Box[F](aFruit: F) {\n",
    "    def fruit: F=aFruit\n",
    "}"
   ]
  },
  {
   "cell_type": "code",
   "execution_count": null,
   "metadata": {
    "collapsed": false
   },
   "outputs": [],
   "source": [
    "var appleBox=new Box[Apple](new Apple)"
   ]
  },
  {
   "cell_type": "code",
   "execution_count": null,
   "metadata": {
    "collapsed": false
   },
   "outputs": [],
   "source": [
    "var orangeBox=new Box[Orange](new Orange)"
   ]
  },
  {
   "cell_type": "code",
   "execution_count": null,
   "metadata": {
    "collapsed": true
   },
   "outputs": [],
   "source": []
  },
  {
   "cell_type": "code",
   "execution_count": null,
   "metadata": {
    "collapsed": false,
    "scrolled": true
   },
   "outputs": [],
   "source": [
    "class Box[F](aFruit: F) {\n",
    "    def fruit: F=aFruit\n",
    "    def contains(aFruit: Fruit)=fruit.name.equals(aFruit.name)\n",
    "}"
   ]
  },
  {
   "cell_type": "code",
   "execution_count": null,
   "metadata": {
    "collapsed": true
   },
   "outputs": [],
   "source": []
  },
  {
   "cell_type": "code",
   "execution_count": null,
   "metadata": {
    "collapsed": true
   },
   "outputs": [],
   "source": []
  },
  {
   "cell_type": "markdown",
   "metadata": {},
   "source": [
    "### Typ-Schranken"
   ]
  },
  {
   "cell_type": "markdown",
   "metadata": {},
   "source": [
    "- Wahl eines konkreten Typs eines Typ-Parameters kann durch obere und untere Typ-Grenzen eingeschränkt werden\n",
    "- T <: Upperbound ",
    "Der Typ-Parameter muss ein Subtyp von Upperbound sein (1)\n",
    "- T >: Lowerbound ",
    "Der Typ-Parameter muss ein Supertyp von Lowerbound sein\n",
    "- Verletzten die eingesetzten Datentypen die Typ-Einschränkungen kommt es zu einem Type-Mismatch-Fehler"
   ]
  },
  {
   "cell_type": "code",
   "execution_count": null,
   "metadata": {
    "collapsed": false
   },
   "outputs": [],
   "source": [
    "class Box[F<:Fruit](aFruit: F) {\n",
    "    def fruit: F=aFruit\n",
    "    def contains(aFruit: Fruit)=fruit.name.equals(aFruit.name)\n",
    "}"
   ]
  },
  {
   "cell_type": "code",
   "execution_count": null,
   "metadata": {
    "collapsed": false
   },
   "outputs": [],
   "source": [
    "class Bar\n",
    "class Baz extends Bar\n",
    "class Buz extends Baz\n",
    "class Boz extends Buz\n",
    "class Foo[A>:Buz]"
   ]
  },
  {
   "cell_type": "code",
   "execution_count": null,
   "metadata": {
    "collapsed": false
   },
   "outputs": [],
   "source": [
    "new Foo[Bar]"
   ]
  },
  {
   "cell_type": "code",
   "execution_count": null,
   "metadata": {
    "collapsed": false
   },
   "outputs": [],
   "source": [
    "new Foo[Baz]"
   ]
  },
  {
   "cell_type": "code",
   "execution_count": null,
   "metadata": {
    "collapsed": false
   },
   "outputs": [],
   "source": [
    "new Foo[Buz]"
   ]
  },
  {
   "cell_type": "code",
   "execution_count": null,
   "metadata": {
    "collapsed": false
   },
   "outputs": [],
   "source": [
    "new Foo[Boz]"
   ]
  },
  {
   "cell_type": "markdown",
   "metadata": {},
   "source": [
    "### Typ-Varianz"
   ]
  },
  {
   "cell_type": "markdown",
   "metadata": {},
   "source": [
    "- Die Varianz von Typ-Parametern beschreibt den Zusammenhang zwischen dem generischen Typ GenType[T] und seinem Typ-Parameter T in Bezug darauf, wie sich Sub- und Supertyp-Beziehungen für T auf GenType[T] übertragen\n",
    "- Beispiel: List ist covariant, d.h. eine Funktion f:List[Any]=>Int kann mit ",
    "f(\"Erstes Element\"::Nil) aufgerufen werden, d.h. mit einem Eingabeparameter vom Typ List[String] "
   ]
  },
  {
   "cell_type": "code",
   "execution_count": null,
   "metadata": {
    "collapsed": false
   },
   "outputs": [],
   "source": [
    "var box: Box[Fruit]=new Box[Apple](new Apple)"
   ]
  },
  {
   "cell_type": "code",
   "execution_count": null,
   "metadata": {
    "collapsed": false
   },
   "outputs": [],
   "source": [
    "class Box[+F<:Fruit](aFruit: F) {\n",
    "    def fruit: F=aFruit\n",
    "    def contains(aFruit: Fruit)=fruit.name.equals(aFruit.name)\n",
    "}"
   ]
  },
  {
   "cell_type": "code",
   "execution_count": null,
   "metadata": {
    "collapsed": false
   },
   "outputs": [],
   "source": [
    "var box: Box[Fruit]=new Box[Apple](new Apple)"
   ]
  },
  {
   "cell_type": "code",
   "execution_count": null,
   "metadata": {
    "collapsed": false
   },
   "outputs": [],
   "source": []
  },
  {
   "cell_type": "code",
   "execution_count": null,
   "metadata": {
    "collapsed": true
   },
   "outputs": [],
   "source": []
  },
  {
   "cell_type": "markdown",
   "metadata": {},
   "source": [
    "Definition: Sei GenType[T] ein Typ mit einem Typ-Parameter T mit oder ohne Einschränkungen (Bounds). Dann gibt es die drei folgenden Sub-/Supertyp-Beziehungen für GenTyp[T]:\n",
    "\n",
    "- GenType[T] ist invariant für einen Typ T, d.h. für zwei verschiedene konkrete Typen A und B gibt es keine Sub-/Supertyp-Beziehung zwischen GenType[A] und GenType[B]\n",
    "\n",
    "- GenType[+T] ist covariant für einen Typ T, d.h. für zwei konkrete Typen A und B folgt aus A <: B auch\n",
    "GenType[A] <: GenType[B]\n",
    "\n",
    "- GenType[-T] ist contravariant für einen Typ T, d.h. für zwei konkrete Typen A und B folgt aus A <: B die inverse Beziehung\n",
    "GenType[A] >: GenType[B]"
   ]
  },
  {
   "cell_type": "markdown",
   "metadata": {
    "collapsed": true
   },
   "source": [
    "<img src=\"figure-2-10.png\" />"
   ]
  },
  {
   "cell_type": "code",
   "execution_count": null,
   "metadata": {
    "collapsed": true
   },
   "outputs": [],
   "source": []
  },
  {
   "cell_type": "code",
   "execution_count": null,
   "metadata": {
    "collapsed": true
   },
   "outputs": [],
   "source": []
  },
  {
   "cell_type": "code",
   "execution_count": null,
   "metadata": {
    "collapsed": true
   },
   "outputs": [],
   "source": []
  },
  {
   "cell_type": "code",
   "execution_count": null,
   "metadata": {
    "collapsed": true
   },
   "outputs": [],
   "source": []
  },
  {
   "cell_type": "code",
   "execution_count": null,
   "metadata": {
    "collapsed": true
   },
   "outputs": [],
   "source": []
  }
 ],
 "metadata": {
  "kernelspec": {
   "display_name": "Scala (develop)",
   "language": "scala",
   "name": "scala-develop"
  },
  "language_info": {
   "codemirror_mode": "text/x-scala",
   "file_extension": ".scala",
   "mimetype": "text/x-scala",
   "name": "scala211",
   "nbconvert_exporter": "script",
   "pygments_lexer": "scala",
   "version": "2.11.8"
  }
 },
 "nbformat": 4,
 "nbformat_minor": 0
}
