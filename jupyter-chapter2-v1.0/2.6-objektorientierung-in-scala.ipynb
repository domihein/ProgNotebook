{
 "cells": [
  {
   "cell_type": "markdown",
   "metadata": {},
   "source": [
    "# Kapitel 2"
   ]
  },
  {
   "cell_type": "markdown",
   "metadata": {},
   "source": [
    "## 4.2 Objektorientierung in Scala"
   ]
  },
  {
   "cell_type": "markdown",
   "metadata": {},
   "source": [
    "Klassen\n",
    "- Eine Klasse ist eine Schablone für die Erzeugung von Instanzen\n",
    "- Werden mit dem Schlüsselwort class angelegt\n",
    "- Enthalten Felder und Methoden\n",
    "- Instanzen einer Klasse werden mit Konstruktoren und dem Schlüsselwort new angelegt\n",
    "\n",
    "Singletons\n",
    "- Klassen haben in Scala keine statischen Methoden und Felder\n",
    "- Singletons (Einzelstücke) sind Klassen von denen es maximal eine Instanz gibt, und ersetzen somit das Konzept statischer Methoden und Felder von Java\n",
    "- Erzeugung mit dem Schlüsselwort object\n",
    "\n",
    "Applikation\n",
    "- Applikationen sind Singleton-Objekte mit einer main-Methode\n",
    "- main hat die gleiche Signatur wie in Java"
   ]
  },
  {
   "cell_type": "markdown",
   "metadata": {},
   "source": [
    "### Einfache Klassen "
   ]
  },
  {
   "cell_type": "code",
   "execution_count": null,
   "metadata": {
    "collapsed": false
   },
   "outputs": [],
   "source": [
    "class User"
   ]
  },
  {
   "cell_type": "code",
   "execution_count": null,
   "metadata": {
    "collapsed": false
   },
   "outputs": [],
   "source": [
    "val u=new User"
   ]
  },
  {
   "cell_type": "code",
   "execution_count": null,
   "metadata": {
    "collapsed": false
   },
   "outputs": [],
   "source": [
    "val v=new User()"
   ]
  },
  {
   "cell_type": "code",
   "execution_count": null,
   "metadata": {
    "collapsed": false
   },
   "outputs": [],
   "source": [
    "val isAnyRef=u.isInstanceOf[AnyRef]"
   ]
  },
  {
   "cell_type": "code",
   "execution_count": null,
   "metadata": {
    "collapsed": true
   },
   "outputs": [],
   "source": []
  },
  {
   "cell_type": "code",
   "execution_count": null,
   "metadata": {
    "collapsed": true
   },
   "outputs": [],
   "source": []
  },
  {
   "cell_type": "code",
   "execution_count": null,
   "metadata": {
    "collapsed": true
   },
   "outputs": [],
   "source": []
  },
  {
   "cell_type": "markdown",
   "metadata": {},
   "source": [
    "### Bestandteile von Klassen"
   ]
  },
  {
   "cell_type": "markdown",
   "metadata": {},
   "source": [
    "- Klassen können Felder, Methoden und andere, eingebettete Klassen umfassen\n",
    "- Felder und Methoden des vererbenden Supertyps können mit override überschrieben werden"
   ]
  },
  {
   "cell_type": "code",
   "execution_count": null,
   "metadata": {
    "collapsed": false
   },
   "outputs": [],
   "source": [
    "class User {\n",
    "    val name: String=\"Yubba\"\n",
    "    def greet: String=s\"Hello from $name\"\n",
    "    override def toString=s\"User($name)\"\n",
    "}"
   ]
  },
  {
   "cell_type": "code",
   "execution_count": null,
   "metadata": {
    "collapsed": false
   },
   "outputs": [],
   "source": [
    "val u=new User"
   ]
  },
  {
   "cell_type": "code",
   "execution_count": null,
   "metadata": {
    "collapsed": false
   },
   "outputs": [],
   "source": [
    "println(u.greet)"
   ]
  },
  {
   "cell_type": "code",
   "execution_count": null,
   "metadata": {
    "collapsed": true
   },
   "outputs": [],
   "source": []
  },
  {
   "cell_type": "code",
   "execution_count": null,
   "metadata": {
    "collapsed": true
   },
   "outputs": [],
   "source": []
  },
  {
   "cell_type": "markdown",
   "metadata": {},
   "source": [
    "- Klassenparameter sind Eingabevariablen, die bei Instanziierung der Klasse übergeben werden\n",
    "- Klassenparamter, die ohne val oder var deklariert werden, sind private val und außerhalb der Klasse nicht zugreifbar"
   ]
  },
  {
   "cell_type": "code",
   "execution_count": null,
   "metadata": {
    "collapsed": false
   },
   "outputs": [],
   "source": [
    "class User(n: String) {\n",
    "    val name: String=n\n",
    "    def greet: String=s\"Hello from $name\"\n",
    "    override def toString=s\"User($name)\"\n",
    "}"
   ]
  },
  {
   "cell_type": "code",
   "execution_count": null,
   "metadata": {
    "collapsed": false
   },
   "outputs": [],
   "source": [
    "val u=new User(\"Zeniba\")"
   ]
  },
  {
   "cell_type": "code",
   "execution_count": null,
   "metadata": {
    "collapsed": false
   },
   "outputs": [],
   "source": [
    "u.n"
   ]
  },
  {
   "cell_type": "code",
   "execution_count": null,
   "metadata": {
    "collapsed": false
   },
   "outputs": [],
   "source": [
    "class User(val name: String) {\n",
    "    def greet: String=s\"Hello from $name\"\n",
    "    override def toString=\"User($name)\"\n",
    "}"
   ]
  },
  {
   "cell_type": "code",
   "execution_count": null,
   "metadata": {
    "collapsed": false
   },
   "outputs": [],
   "source": [
    "val u=new User(\"Axel\")"
   ]
  },
  {
   "cell_type": "code",
   "execution_count": null,
   "metadata": {
    "collapsed": false
   },
   "outputs": [],
   "source": [
    "u.name"
   ]
  },
  {
   "cell_type": "markdown",
   "metadata": {},
   "source": [
    "### Getter- und Setter-Methoden"
   ]
  },
  {
   "cell_type": "markdown",
   "metadata": {},
   "source": [
    "Java\n",
    "- Getter- und Setter-Methoden in Java: Zugriff auf Felder einer Klasse über Methoden getXxxx() und setXxxx()\n",
    "- Müssen in Java explizit programmiert werden (1) wenn der Zugriff auf die zugehörigen Felder über sie erfolgen soll\n",
    "\n",
    "Scala\n",
    "- Scala generiert automatisch Getter- und Setter-Methoden für alle Felder, die nicht mit private gekennzeichnet sind\n",
    "- Konstanten (val) haben lediglich Getter-, aber keiner Setter-Methoden\n",
    "\n",
    "Beispiel: age\n",
    "- Getter-Methode: age\n",
    "- Setter-Methode: age_\n",
    "- Lesezugriff auf age wird intern durch den Aufruf einer Methode age abgebildet\n",
    "- Schreibzugriff auf age wird intern durch den Aufruf einer Methode age_ abgebildet"
   ]
  },
  {
   "cell_type": "code",
   "execution_count": null,
   "metadata": {
    "collapsed": false
   },
   "outputs": [],
   "source": [
    "class Person {\n",
    "    var age=0\n",
    "}"
   ]
  },
  {
   "cell_type": "code",
   "execution_count": null,
   "metadata": {
    "collapsed": false
   },
   "outputs": [],
   "source": [
    "val fred=new Person"
   ]
  },
  {
   "cell_type": "code",
   "execution_count": null,
   "metadata": {
    "collapsed": false
   },
   "outputs": [],
   "source": [
    "fred.age=21"
   ]
  },
  {
   "cell_type": "code",
   "execution_count": null,
   "metadata": {
    "collapsed": true
   },
   "outputs": [],
   "source": []
  },
  {
   "cell_type": "code",
   "execution_count": null,
   "metadata": {
    "collapsed": true
   },
   "outputs": [],
   "source": []
  },
  {
   "cell_type": "markdown",
   "metadata": {},
   "source": [
    "- Anstelle der automatisch generierten Getter- und Setter-Methoden können in Scala eigene Getter- und Setter-Methoden definiert werden\n",
    "- Getter- und Setter-Methoden repräsentieren ein nach außen sichtbares Feld, welches intern durch eine mit private gekennzeichnete Hilfsvariable realisiert wird"
   ]
  },
  {
   "cell_type": "code",
   "execution_count": null,
   "metadata": {
    "collapsed": false
   },
   "outputs": [],
   "source": [
    "class Person {\n",
    "    private var _age=0\n",
    "    def age=_age\n",
    "    def age_=(newAge: Int) {\n",
    "        if (newAge>_age) _age=newAge\n",
    "    }\n",
    "}"
   ]
  },
  {
   "cell_type": "code",
   "execution_count": null,
   "metadata": {
    "collapsed": false
   },
   "outputs": [],
   "source": [
    "val fred=new Person"
   ]
  },
  {
   "cell_type": "code",
   "execution_count": null,
   "metadata": {
    "collapsed": false
   },
   "outputs": [],
   "source": [
    "fred.age=30; println(fred.age)"
   ]
  },
  {
   "cell_type": "code",
   "execution_count": null,
   "metadata": {
    "collapsed": false
   },
   "outputs": [],
   "source": [
    "fred.age=21; println(fred.age)"
   ]
  },
  {
   "cell_type": "code",
   "execution_count": null,
   "metadata": {
    "collapsed": true
   },
   "outputs": [],
   "source": []
  },
  {
   "cell_type": "code",
   "execution_count": null,
   "metadata": {
    "collapsed": true
   },
   "outputs": [],
   "source": []
  },
  {
   "cell_type": "markdown",
   "metadata": {},
   "source": [
    "### Class- versus Object-private Fields"
   ]
  },
  {
   "cell_type": "code",
   "execution_count": null,
   "metadata": {
    "collapsed": false
   },
   "outputs": [],
   "source": [
    "class Counter {\n",
    "    private var value=0\n",
    "    def increment() {value+=1}\n",
    "    def isLess(other: Counter)=value<other.value\n",
    "}"
   ]
  },
  {
   "cell_type": "code",
   "execution_count": null,
   "metadata": {
    "collapsed": false
   },
   "outputs": [],
   "source": [
    "class Counter {\n",
    "    private[this] var value=0\n",
    "    def increment() {value+=1}\n",
    "    def isLess(other: Counter)=value<other.value\n",
    "}"
   ]
  },
  {
   "cell_type": "code",
   "execution_count": null,
   "metadata": {
    "collapsed": true
   },
   "outputs": [],
   "source": []
  },
  {
   "cell_type": "code",
   "execution_count": null,
   "metadata": {
    "collapsed": true
   },
   "outputs": [],
   "source": []
  },
  {
   "cell_type": "markdown",
   "metadata": {},
   "source": [
    "### Konstruktoren"
   ]
  },
  {
   "cell_type": "markdown",
   "metadata": {},
   "source": [
    "Zwei verschiedene Arten von Konstruktoren in Scala\n",
    "- Primäre Konstruktoren (Primary Constructors)\n",
    "- Hilfskonstruktoren (Auxiliary Constructors)\n",
    "\n",
    "Primäre Konstruktoren\n",
    "- Jeder Klasse hat einen primären Konstruktor (Primary Constructor), der implizit durch die Klassenparameter und den den Rumpf der Klasse gegeben ist\n",
    "- Keine explizite Definition (vgl. Java)\n",
    "- Ausdrücke und Felder außerhalb von Methoden im Rumpf der Klasse gehören zum primären Konstruktor\n",
    "- Mit val und var gekennzeichnete Klassenparameter werden durch den primären Konstruktor zu Instanzvariablen des Objektes und mit den übergebenden Werten initialisiert"
   ]
  },
  {
   "cell_type": "code",
   "execution_count": null,
   "metadata": {
    "collapsed": false
   },
   "outputs": [],
   "source": [
    "class Person(val name: String, val age: Int) {\n",
    "    println(\"Just constructed another person\")\n",
    "    def description=name+\" is \"+age+\" years old\"\n",
    "}"
   ]
  },
  {
   "cell_type": "code",
   "execution_count": null,
   "metadata": {
    "collapsed": false
   },
   "outputs": [],
   "source": [
    "val claudia=new Person(\"Claudia\", 28)"
   ]
  },
  {
   "cell_type": "code",
   "execution_count": null,
   "metadata": {
    "collapsed": true
   },
   "outputs": [],
   "source": []
  },
  {
   "cell_type": "code",
   "execution_count": null,
   "metadata": {
    "collapsed": true
   },
   "outputs": [],
   "source": []
  },
  {
   "cell_type": "markdown",
   "metadata": {},
   "source": [
    "Hilfskonstruktoren\n",
    "- Eine Klasse hat optional Hilfskonstruktoren (Auxiliary Constructors) \n",
    "- Hilfskonstruktoren werden mit this benannt\n",
    "- Beginnen mit einem Aufruf eines zuvor definierten Hilfskonstruktors oder des primären Konstruktors"
   ]
  },
  {
   "cell_type": "code",
   "execution_count": null,
   "metadata": {
    "collapsed": false
   },
   "outputs": [],
   "source": [
    "class Person {\n",
    "    private var name=\"\"\n",
    "    private var age=0\n",
    "    \n",
    "    def this(name: String) {\n",
    "        this()\n",
    "        this.name=name\n",
    "    }\n",
    "    \n",
    "    def this(name: String, age: Int) {\n",
    "        this(name)\n",
    "        this.age=age\n",
    "    }\n",
    "}"
   ]
  },
  {
   "cell_type": "code",
   "execution_count": null,
   "metadata": {
    "collapsed": false
   },
   "outputs": [],
   "source": [
    "val p1=new Person"
   ]
  },
  {
   "cell_type": "code",
   "execution_count": null,
   "metadata": {
    "collapsed": false
   },
   "outputs": [],
   "source": [
    "val p2=new Person(\"Fred\")"
   ]
  },
  {
   "cell_type": "code",
   "execution_count": null,
   "metadata": {
    "collapsed": false
   },
   "outputs": [],
   "source": [
    "val p3=new Person(\"Claudia\", 28)"
   ]
  },
  {
   "cell_type": "code",
   "execution_count": null,
   "metadata": {
    "collapsed": true
   },
   "outputs": [],
   "source": []
  },
  {
   "cell_type": "code",
   "execution_count": null,
   "metadata": {
    "collapsed": true
   },
   "outputs": [],
   "source": []
  },
  {
   "cell_type": "markdown",
   "metadata": {},
   "source": [
    "### Eingebettete Klassen"
   ]
  },
  {
   "cell_type": "markdown",
   "metadata": {},
   "source": [
    "- Klassen können andere Klassen einbetten (Nested Classes)\n",
    "- Jede Instanz der einbettenden Klasse hat dann eine eigene eingebettete Klasse\n",
    "- Eingebettete Klassen unterschiedlicher Instanzen der einbettenden Klasse sind nicht kompatibel"
   ]
  },
  {
   "cell_type": "code",
   "execution_count": null,
   "metadata": {
    "collapsed": false
   },
   "outputs": [],
   "source": [
    "import scala.collection.mutable.ArrayBuffer\n",
    "\n",
    "class Network {\n",
    "    class Member(val name: String) {\n",
    "        val contacts=new ArrayBuffer[Member]\n",
    "    }\n",
    "    \n",
    "    private val members=new ArrayBuffer[Member]\n",
    "    \n",
    "    def join(name: String)={\n",
    "        val m=new Member(name)\n",
    "        members+=m\n",
    "        m\n",
    "    }\n",
    "}"
   ]
  },
  {
   "cell_type": "code",
   "execution_count": null,
   "metadata": {
    "collapsed": false
   },
   "outputs": [],
   "source": [
    "val facebook=new Network"
   ]
  },
  {
   "cell_type": "code",
   "execution_count": null,
   "metadata": {
    "collapsed": false
   },
   "outputs": [],
   "source": [
    "val linkedIn=new Network"
   ]
  },
  {
   "cell_type": "code",
   "execution_count": null,
   "metadata": {
    "collapsed": false
   },
   "outputs": [],
   "source": [
    "val fred=facebook.join(\"Fred\")"
   ]
  },
  {
   "cell_type": "code",
   "execution_count": null,
   "metadata": {
    "collapsed": false
   },
   "outputs": [],
   "source": [
    "val wilma=facebook.join(\"Wilma\")"
   ]
  },
  {
   "cell_type": "code",
   "execution_count": null,
   "metadata": {
    "collapsed": false
   },
   "outputs": [],
   "source": [
    "fred.contacts+=wilma"
   ]
  },
  {
   "cell_type": "code",
   "execution_count": null,
   "metadata": {
    "collapsed": false
   },
   "outputs": [],
   "source": [
    "val barney=linkedIn.join(\"Barney\")"
   ]
  },
  {
   "cell_type": "code",
   "execution_count": null,
   "metadata": {
    "collapsed": false
   },
   "outputs": [],
   "source": [
    "fred.contacts+=barney"
   ]
  },
  {
   "cell_type": "code",
   "execution_count": null,
   "metadata": {
    "collapsed": true
   },
   "outputs": [],
   "source": []
  },
  {
   "cell_type": "code",
   "execution_count": null,
   "metadata": {
    "collapsed": true
   },
   "outputs": [],
   "source": []
  },
  {
   "cell_type": "markdown",
   "metadata": {},
   "source": [
    "### Vererbung"
   ]
  },
  {
   "cell_type": "markdown",
   "metadata": {},
   "source": [
    "- Eine Klasse (Subtyp) kann von maximal einer anderen Klasse (Supertyp) mit dem Schlüsselwort extends erben\n",
    "- Konstruktor der vererbenden Klasse muss angegeben werden und wird bei Instanziierung aufgerufen\n",
    "- Erbende Klasse kann Felder und Methoden der vererbenden Klasse mit dem Schlüsselwort override überschreiben\n",
    "- Verwendung von override ist verpflichtend, nicht optional wie in Java\n",
    "- Felder und Methoden einer Klasse können mit this angesprochen werden, die der Superklasse mit dem Schlüsselwort super (nützlich wenn die erbende Klasse eine Methode überschreibt)"
   ]
  },
  {
   "cell_type": "code",
   "execution_count": null,
   "metadata": {
    "collapsed": false
   },
   "outputs": [],
   "source": [
    "class Vehicle(val id: Int, val year: Int) {\n",
    "    override def toString=s\"ID: $id Year: $year\"\n",
    "}"
   ]
  },
  {
   "cell_type": "code",
   "execution_count": null,
   "metadata": {
    "collapsed": false
   },
   "outputs": [],
   "source": [
    "class Car(override val id: Int, override val year: Int, val fuelLevel: Int) extends Vehicle(id, year) {\n",
    "    override def toString=s\"${super.toString} Fuel Level: $fuelLevel\"\n",
    "}"
   ]
  },
  {
   "cell_type": "code",
   "execution_count": null,
   "metadata": {
    "collapsed": false
   },
   "outputs": [],
   "source": [
    "val car=new Car(1, 2015, 100)"
   ]
  },
  {
   "cell_type": "code",
   "execution_count": null,
   "metadata": {
    "collapsed": false
   },
   "outputs": [],
   "source": [
    "println(car)"
   ]
  },
  {
   "cell_type": "code",
   "execution_count": null,
   "metadata": {
    "collapsed": true
   },
   "outputs": [],
   "source": []
  },
  {
   "cell_type": "code",
   "execution_count": null,
   "metadata": {
    "collapsed": true
   },
   "outputs": [],
   "source": []
  },
  {
   "cell_type": "markdown",
   "metadata": {},
   "source": [
    "- Eine Instanz eines Subtyps kann anstelle einer Instanz des Supertyps verwendet werden, aber nicht umgekehrt\n",
    "- Ein Subtyp unterstützt alle Methoden und Felder des Supertyps und ist daher zu 100% kompatibel, aber ein Supertyp hat nicht alle Methoden und Felder seines Subtyps"
   ]
  },
  {
   "cell_type": "code",
   "execution_count": null,
   "metadata": {
    "collapsed": false
   },
   "outputs": [],
   "source": [
    "val a: Vehicle=new Vehicle(1, 2015)"
   ]
  },
  {
   "cell_type": "code",
   "execution_count": null,
   "metadata": {
    "collapsed": false
   },
   "outputs": [],
   "source": [
    "val a: Vehicle=new Car(1, 2015, 100)"
   ]
  },
  {
   "cell_type": "code",
   "execution_count": null,
   "metadata": {
    "collapsed": false
   },
   "outputs": [],
   "source": [
    "val b: Car=new Vehicle(1,2015)"
   ]
  },
  {
   "cell_type": "code",
   "execution_count": null,
   "metadata": {
    "collapsed": false
   },
   "outputs": [],
   "source": [
    "val b: Car=new Car(1, 2015, 100)"
   ]
  },
  {
   "cell_type": "code",
   "execution_count": null,
   "metadata": {
    "collapsed": true
   },
   "outputs": [],
   "source": []
  },
  {
   "cell_type": "code",
   "execution_count": null,
   "metadata": {
    "collapsed": true
   },
   "outputs": [],
   "source": []
  },
  {
   "cell_type": "markdown",
   "metadata": {},
   "source": [
    "### Vererbung mit Traits"
   ]
  },
  {
   "cell_type": "markdown",
   "metadata": {},
   "source": [
    "Problem von Java und Scala: Mehrfachvererbung wird nicht unterstützt:"
   ]
  },
  {
   "cell_type": "markdown",
   "metadata": {},
   "source": [
    "<img src=\"figure-4-6.png\" />"
   ]
  },
  {
   "cell_type": "markdown",
   "metadata": {},
   "source": [
    "- Vermeintliche Lösung: Übernahme der Eigenschaften mehrerer Klassen durch mehrstufige Vererbungshierarchien\n",
    "- Unschön, unübersichtlich und unlogisch\n",
    "- Haben Animal und Human wirklich alle Eigenschaften von Friend?\n",
    "Sind alle Tiere Freunde des Menschen?"
   ]
  },
  {
   "cell_type": "markdown",
   "metadata": {},
   "source": [
    "<img src=\"figure-4-7.png\" />"
   ]
  },
  {
   "cell_type": "markdown",
   "metadata": {},
   "source": [
    "- Traits (Mix-Ins) sind klassenähnliche Verbünde von abstrakten und nicht-abstrakten Feldern und Methoden, die anderen Klassen \"beigemischt\" werden können\n",
    "- Entsprechen Interfaces in Java, mit dem Unterschied, dass Traits auch Implementierungen von Methoden und Instanziierungen von Feldern aufweisen können - Interfaces in Java dürfen nur abstrakt sein"
   ]
  },
  {
   "cell_type": "markdown",
   "metadata": {},
   "source": [
    "<img src=\"figure-4-8.png\" />"
   ]
  },
  {
   "cell_type": "markdown",
   "metadata": {},
   "source": [
    "- Traits haben abstrakte und nicht-abstrakte Methoden und Variablen\n",
    "- Traits werden zum Vererben mit extends an die erbende Klasse angehängt - mehrere Traits werden mit dem Schlüsselwort with voneinander getrennt\n",
    "- Erbende Klasse muss alle abstrakten Methoden des Traits implementieren und alle abstrakten Variablen instanziieren\n",
    "- Nicht-abstrakte Methoden und Variablen des Traits können in der erbenden Klasse mit override überschrieben werden"
   ]
  },
  {
   "cell_type": "code",
   "execution_count": null,
   "metadata": {
    "collapsed": false
   },
   "outputs": [],
   "source": [
    "trait Friend{\n",
    "    val name: String\n",
    "    def isFriend()=println(s\"Your friend is $name\")\n",
    "}"
   ]
  },
  {
   "cell_type": "code",
   "execution_count": null,
   "metadata": {
    "collapsed": false
   },
   "outputs": [],
   "source": [
    "trait Colleague {\n",
    "    val name: String\n",
    "    def isColleague()=println(s\"Your colleague is $name\")\n",
    "}"
   ]
  },
  {
   "cell_type": "code",
   "execution_count": null,
   "metadata": {
    "collapsed": false
   },
   "outputs": [],
   "source": [
    "class Human(val name: String) extends Colleague with Friend"
   ]
  },
  {
   "cell_type": "code",
   "execution_count": null,
   "metadata": {
    "collapsed": false
   },
   "outputs": [],
   "source": [
    "class Man(override val name: String) extends Human(name)"
   ]
  },
  {
   "cell_type": "code",
   "execution_count": null,
   "metadata": {
    "collapsed": false
   },
   "outputs": [],
   "source": [
    "class Woman(override val name: String) extends Human(name)"
   ]
  },
  {
   "cell_type": "code",
   "execution_count": null,
   "metadata": {
    "collapsed": false
   },
   "outputs": [],
   "source": [
    "val john=new Man(\"John\")"
   ]
  },
  {
   "cell_type": "code",
   "execution_count": null,
   "metadata": {
    "collapsed": false
   },
   "outputs": [],
   "source": [
    "john.isFriend"
   ]
  },
  {
   "cell_type": "code",
   "execution_count": null,
   "metadata": {
    "collapsed": false
   },
   "outputs": [],
   "source": [
    "class Animal"
   ]
  },
  {
   "cell_type": "code",
   "execution_count": null,
   "metadata": {
    "collapsed": false
   },
   "outputs": [],
   "source": [
    "class Dog(val name: String) extends Animal with Friend {\n",
    "    override def isFriend()=println(s\"Your pet is $name\")\n",
    "}"
   ]
  },
  {
   "cell_type": "code",
   "execution_count": null,
   "metadata": {
    "collapsed": false
   },
   "outputs": [],
   "source": [
    "val comet=new Dog(\"Comet\")"
   ]
  },
  {
   "cell_type": "code",
   "execution_count": null,
   "metadata": {
    "collapsed": false
   },
   "outputs": [],
   "source": [
    "comet.isFriend"
   ]
  },
  {
   "cell_type": "code",
   "execution_count": null,
   "metadata": {
    "collapsed": true
   },
   "outputs": [],
   "source": []
  },
  {
   "cell_type": "code",
   "execution_count": null,
   "metadata": {
    "collapsed": true
   },
   "outputs": [],
   "source": []
  },
  {
   "cell_type": "markdown",
   "metadata": {},
   "source": [
    "- Beimischung von Traits kann alternativ auch pro Objekt erfolgen\n",
    "- Vererbende(s) Trait(s) wird bei der Instanziierung des Objekts mit with angegeben\n",
    "- Methoden und Variablen können nach Angabe des Traits in einem folgenden Block überschrieben werden"
   ]
  },
  {
   "cell_type": "code",
   "execution_count": null,
   "metadata": {
    "collapsed": false
   },
   "outputs": [],
   "source": [
    "class Cat(val name: String) extends Animal"
   ]
  },
  {
   "cell_type": "code",
   "execution_count": null,
   "metadata": {
    "collapsed": false
   },
   "outputs": [],
   "source": [
    "val mizi=new Cat(\"Mizi\") with Friend"
   ]
  },
  {
   "cell_type": "code",
   "execution_count": null,
   "metadata": {
    "collapsed": false
   },
   "outputs": [],
   "source": [
    "mizi.isFriend"
   ]
  },
  {
   "cell_type": "code",
   "execution_count": null,
   "metadata": {
    "collapsed": false
   },
   "outputs": [],
   "source": [
    "val mauzi=new Cat(\"Mauzi\") with Friend {\n",
    "    override def isFriend()=println(s\"Your pet is $name\")\n",
    "}"
   ]
  },
  {
   "cell_type": "code",
   "execution_count": null,
   "metadata": {
    "collapsed": false
   },
   "outputs": [],
   "source": [
    "mauzi.isFriend"
   ]
  },
  {
   "cell_type": "code",
   "execution_count": null,
   "metadata": {
    "collapsed": true
   },
   "outputs": [],
   "source": []
  },
  {
   "cell_type": "code",
   "execution_count": null,
   "metadata": {
    "collapsed": true
   },
   "outputs": [],
   "source": []
  },
  {
   "cell_type": "markdown",
   "metadata": {},
   "source": [
    "### Abstrakte Klassen"
   ]
  },
  {
   "cell_type": "markdown",
   "metadata": {},
   "source": [
    "- Abstrakte Klassen dienen der Erweiterung durch Subtypen, können aber nicht instanziiert werden (vgl. Java)\n",
    "- Abstrakte Felder und abstrakte Methoden: Felder und Methoden in abstrakten Klassen die lediglich deklariert, jedoch nicht mit einem Wert initialisiert bzw. durch einen Methodenrumpf definiert werden\n",
    "- Abstrakte Felder und Methoden einer abstrakten Klasse sind nicht mit dem Schlüsselwort abstract gekennzeichnet\n",
    "- Abstrakte Felder und Methoden müssen in der erbenden Klasse initialisiert bzw. definiert werden\n",
    "- Verfügt eine Klasse über abstrakte Felder und Methoden die, so muss diese Klasse abstrakt und mit dem Schlüsselwort abstract gekennzeichnet sein\n",
    "- Abstrakte Felder und Methoden der abstrakten Klasse werden in der erbenden Klasse ohne das Schlüsselwort override initialisiert bzw. definiert"
   ]
  },
  {
   "cell_type": "code",
   "execution_count": null,
   "metadata": {
    "collapsed": false
   },
   "outputs": [],
   "source": [
    "abstract class Car {\n",
    "    val year: Int\n",
    "    val automatic: Boolean=true\n",
    "    def color: String\n",
    "}"
   ]
  },
  {
   "cell_type": "code",
   "execution_count": null,
   "metadata": {
    "collapsed": false
   },
   "outputs": [],
   "source": [
    "new Car()"
   ]
  },
  {
   "cell_type": "code",
   "execution_count": null,
   "metadata": {
    "collapsed": false
   },
   "outputs": [],
   "source": [
    "class RedMini(val year: Int) extends Car {\n",
    "    def color=\"Red\"\n",
    "}"
   ]
  },
  {
   "cell_type": "code",
   "execution_count": null,
   "metadata": {
    "collapsed": false
   },
   "outputs": [],
   "source": [
    "val m: Car=new RedMini(2005)"
   ]
  },
  {
   "cell_type": "code",
   "execution_count": null,
   "metadata": {
    "collapsed": true
   },
   "outputs": [],
   "source": []
  },
  {
   "cell_type": "code",
   "execution_count": null,
   "metadata": {
    "collapsed": true
   },
   "outputs": [],
   "source": []
  },
  {
   "cell_type": "markdown",
   "metadata": {},
   "source": [
    "### Singletons"
   ]
  },
  {
   "cell_type": "markdown",
   "metadata": {},
   "source": [
    "- Scala kennt keine statischen Methoden und Felder in Klassen\n",
    "- Singletons (Einzelstücke) sind einzigartige Objekte\n",
    "- Alternative zum Konzept statischer Methoden und Felder in Java\n",
    "- Erzeugung mit dem Schlüsselwort object\n",
    "\n",
    "Singletons werden genutzt, ...\n",
    "- ... zum Bereitstellen einer Utility Function (z.B. Umrechnen von Währungen), \n",
    "- ... wenn eine einzelne unveränderliche Instanz innerhalb einer Anwendung effizient genutzt werden kann und\n",
    "- ... wenn eine einzelne Instanz den Zugriff auf einen Dienst steuert (z.B. die Anbindung einer externen Datenbank)\n",
    "\n",
    "\n",
    "- Der Konstruktor eines Objektes wird ausgeführt wenn das Objekt das erste Mal ausgeführt wird\n",
    "- Der Konstruktor eines Objektes darf keine Parameter haben\n",
    "- Objekte können von Klassen und Traits erben\n",
    "- Beim Erben von Klassen muss der Konstruktor der vererbenden Klasse mit konkreten Werten aufgerufen werden (1)"
   ]
  },
  {
   "cell_type": "code",
   "execution_count": null,
   "metadata": {
    "collapsed": false
   },
   "outputs": [],
   "source": [
    "object Acconts {\n",
    "    private var lastNumber=0\n",
    "    def newUniqueNumber()={\n",
    "        lastNumber+=1\n",
    "        lastNumber\n",
    "    }\n",
    "}"
   ]
  },
  {
   "cell_type": "code",
   "execution_count": null,
   "metadata": {
    "collapsed": false
   },
   "outputs": [],
   "source": [
    "class Vehicle(val id: Int, val color: String)"
   ]
  },
  {
   "cell_type": "code",
   "execution_count": null,
   "metadata": {
    "collapsed": false
   },
   "outputs": [],
   "source": [
    "object Car extends Vehicle(1, \"red\")"
   ]
  },
  {
   "cell_type": "code",
   "execution_count": null,
   "metadata": {
    "collapsed": true
   },
   "outputs": [],
   "source": []
  },
  {
   "cell_type": "code",
   "execution_count": null,
   "metadata": {
    "collapsed": true
   },
   "outputs": [],
   "source": []
  },
  {
   "cell_type": "markdown",
   "metadata": {},
   "source": [
    "- Java ermöglicht die gemeinsame Verwendung von Instanzmethoden und statischen Klassenmethoden (analog für Felder) innerhalb einer Klasse\n",
    "- Scala erlaubt keine statischen Methoden innerhalb von Klassen\n",
    "- Alternative: Companion-Objekte\n",
    "- Ein Companion-Objekt ergänzt eine Klasse mit demselben Namen innerhalb derselben Quelldatei um statische Methoden und Felder (1)\n",
    "- Klasse und zugehöriges Companion-Objekt können gegenseitig auf privat deklarierte Methoden und Felder zugreifen\n",
    "- Hinweis: Methoden und Felder des Companion-Objektes müssen in der zugehörigen Klasse mit dem Objektnamen als Präfix aufgerufen werden (2)\n",
    "- Hinweis: In REPL müssen Klasse und Companion-Objekt im Paste-Modus eingegeben werden, andernfalls behandelt REPL ihre Definition als wären sie in getrennten Quelldateien (3)"
   ]
  },
  {
   "cell_type": "code",
   "execution_count": null,
   "metadata": {
    "collapsed": false
   },
   "outputs": [],
   "source": [
    "class Account{\n",
    "    val id=Account.newUniqueNumber()\n",
    "    private var balance=0.0\n",
    "    def deposit(amount: Double) {balance+=amount}\n",
    "}\n",
    "\n",
    "object Account{\n",
    "    private var lastNumber=0\n",
    "    private def newUniqueNumber()={lastNumber+=1; lastNumber}\n",
    "}"
   ]
  },
  {
   "cell_type": "code",
   "execution_count": null,
   "metadata": {
    "collapsed": false
   },
   "outputs": [],
   "source": [
    "val mueller=new Account()"
   ]
  },
  {
   "cell_type": "code",
   "execution_count": null,
   "metadata": {
    "collapsed": false
   },
   "outputs": [],
   "source": [
    "mueller.id"
   ]
  },
  {
   "cell_type": "code",
   "execution_count": null,
   "metadata": {
    "collapsed": false
   },
   "outputs": [],
   "source": [
    "mueller.deposit(3.50)"
   ]
  },
  {
   "cell_type": "code",
   "execution_count": null,
   "metadata": {
    "collapsed": false
   },
   "outputs": [],
   "source": [
    "val schmitz=new Account()"
   ]
  },
  {
   "cell_type": "code",
   "execution_count": null,
   "metadata": {
    "collapsed": false
   },
   "outputs": [],
   "source": [
    "schmitz.id"
   ]
  },
  {
   "cell_type": "code",
   "execution_count": null,
   "metadata": {
    "collapsed": true
   },
   "outputs": [],
   "source": []
  },
  {
   "cell_type": "code",
   "execution_count": null,
   "metadata": {
    "collapsed": true
   },
   "outputs": [],
   "source": []
  },
  {
   "cell_type": "markdown",
   "metadata": {},
   "source": [
    "### Factory-Methoden"
   ]
  },
  {
   "cell_type": "markdown",
   "metadata": {},
   "source": [
    "- Eine Factory-Methode ermöglicht die Instanziierung eines Objektes einer Klasse und stellt eine Alternative zur Objekterzeugung mittels eines Konstruktors dar\n",
    "- Scala reserviert die Methode apply als Factory-Methode innerhalb eines Companion-Objekts zur Erzeugung einer Instanz der zugehörigen Klasse (1)\n",
    "- Methode apply instanziiert Objekte der Klasse durch Aufruf des Konstruktors der Klasse (2)\n",
    "- Factory-Methode wird durch Klassenamen und Parameter aufgerufen, d.h. ohne apply und ohne das Schlüsselwort new (3) "
   ]
  },
  {
   "cell_type": "code",
   "execution_count": null,
   "metadata": {
    "collapsed": false
   },
   "outputs": [],
   "source": [
    "class Account(val id: Int, initialBalance: Double) {\n",
    "    private var balance=initialBalance\n",
    "    def deposit(amount: Double) {balance+=amount}\n",
    "}\n",
    "\n",
    "object Account{\n",
    "    private var lastNumber=0\n",
    "    private def newUniqueNumber()={lastNumber+=1; lastNumber}\n",
    "    def apply(initialBalance: Double)=new Account(newUniqueNumber(), initialBalance)\n",
    "}"
   ]
  },
  {
   "cell_type": "code",
   "execution_count": null,
   "metadata": {
    "collapsed": false
   },
   "outputs": [],
   "source": [
    "val mueller=Account(1250)"
   ]
  },
  {
   "cell_type": "code",
   "execution_count": null,
   "metadata": {
    "collapsed": false
   },
   "outputs": [],
   "source": [
    "Array(\"Mary\", \"had\", \"a\", \"little\", \"lamb\")"
   ]
  },
  {
   "cell_type": "code",
   "execution_count": null,
   "metadata": {
    "collapsed": false
   },
   "outputs": [],
   "source": [
    "Array(Array(1,7), Array(2,9))"
   ]
  },
  {
   "cell_type": "code",
   "execution_count": null,
   "metadata": {
    "collapsed": true
   },
   "outputs": [],
   "source": []
  },
  {
   "cell_type": "code",
   "execution_count": null,
   "metadata": {
    "collapsed": true
   },
   "outputs": [],
   "source": []
  },
  {
   "cell_type": "markdown",
   "metadata": {},
   "source": [
    "### Anwendungsobjekte"
   ]
  },
  {
   "cell_type": "markdown",
   "metadata": {},
   "source": [
    "- Ausführbare Anwendungen werden nicht durch eine Klasse wie in Java, sondern durch ein Anwendungsobjekt definiert\n",
    "- Anwendungsmethode muss (wie in Java) eine main-Methode definieren, die ein Feld namens args mit Kommandozeilenparametern entgegen nimmt (1)\n",
    "- Alternative: Anwendungsobjekt erweitert den Trait App und erbt von dort die main-Methode (2)\n",
    "- Abfrage der Kommandozeilenparameter args wie in Java (3)"
   ]
  },
  {
   "cell_type": "code",
   "execution_count": null,
   "metadata": {
    "collapsed": false
   },
   "outputs": [],
   "source": [
    "object Hello {\n",
    "    def main(args: Array[String]) {\n",
    "        println(\"Hello, world\")\n",
    "    }\n",
    "}"
   ]
  },
  {
   "cell_type": "code",
   "execution_count": null,
   "metadata": {
    "collapsed": false
   },
   "outputs": [],
   "source": [
    "Hello"
   ]
  },
  {
   "cell_type": "code",
   "execution_count": null,
   "metadata": {
    "collapsed": false
   },
   "outputs": [],
   "source": [
    "object Hello extends App {\n",
    "    println(\"Hello, World\")\n",
    "}"
   ]
  },
  {
   "cell_type": "code",
   "execution_count": null,
   "metadata": {
    "collapsed": false
   },
   "outputs": [],
   "source": [
    "object Hello extends App {\n",
    "    if (args.length>0)\n",
    "        println(\"Hello, \"+args(0))\n",
    "    else\n",
    "        println(\"Hello, world\")\n",
    "}"
   ]
  },
  {
   "cell_type": "code",
   "execution_count": null,
   "metadata": {
    "collapsed": false
   },
   "outputs": [],
   "source": [
    "Hello"
   ]
  },
  {
   "cell_type": "code",
   "execution_count": null,
   "metadata": {
    "collapsed": false
   },
   "outputs": [],
   "source": [
    "Hello Axel"
   ]
  },
  {
   "cell_type": "code",
   "execution_count": null,
   "metadata": {
    "collapsed": true
   },
   "outputs": [],
   "source": []
  }
 ],
 "metadata": {
  "kernelspec": {
   "display_name": "Scala (develop)",
   "language": "scala",
   "name": "scala-develop"
  },
  "language_info": {
   "codemirror_mode": "text/x-scala",
   "file_extension": ".scala",
   "mimetype": "text/x-scala",
   "name": "scala211",
   "nbconvert_exporter": "script",
   "pygments_lexer": "scala",
   "version": "2.11.8"
  }
 },
 "nbformat": 4,
 "nbformat_minor": 0
}
