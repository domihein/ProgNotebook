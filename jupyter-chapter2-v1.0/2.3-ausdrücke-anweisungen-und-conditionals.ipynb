{
 "cells": [
  {
   "cell_type": "markdown",
   "metadata": {},
   "source": [
    "# Kapitel 4"
   ]
  },
  {
   "cell_type": "markdown",
   "metadata": {},
   "source": [
    "## 4.3 Ausdrücke, Anweisungen und Conditionals"
   ]
  },
  {
   "cell_type": "markdown",
   "metadata": {},
   "source": [
    "### Ausdrücke"
   ]
  },
  {
   "cell_type": "markdown",
   "metadata": {},
   "source": [
    "- Ein Ausdruck (Expression) ist ein Stück Programmcode, das einen Wert zurück liefert\n",
    "- Grundlage für Funktionen und für funktionale Programmierung\n",
    "- Ausdrücke liefern Werte als Ergebnis ihrer Berechnung zurück, sie modifizieren keine Daten!!!\n",
    "- Werte die von Ausdrücken geliefert werden haben einen wohldefinierten Datentyp\n",
    "- Ergebnisse von Ausdrücken bilden die Eingabe für andere Ausdrücke, werden in Konstanten oder Variablen gespeichert oder bei Methodenaufrufen übergeben\n",
    "- Ausdrücke produzieren keine Seiteneffekte\n",
    "- Wertzuweisungen von Konstanten und Variablen basieren auf Ausdrücken\n",
    "- Hinweis: Literale sind auch Ausdrücke "
   ]
  },
  {
   "cell_type": "code",
   "execution_count": null,
   "metadata": {
    "collapsed": false
   },
   "outputs": [],
   "source": [
    "\"hello\""
   ]
  },
  {
   "cell_type": "code",
   "execution_count": null,
   "metadata": {
    "collapsed": false
   },
   "outputs": [],
   "source": [
    "\"hel\"+'l'+\"o\""
   ]
  },
  {
   "cell_type": "code",
   "execution_count": null,
   "metadata": {
    "collapsed": false
   },
   "outputs": [],
   "source": [
    "5+2"
   ]
  },
  {
   "cell_type": "code",
   "execution_count": null,
   "metadata": {
    "collapsed": false
   },
   "outputs": [],
   "source": [
    "(3.14+2)/10"
   ]
  },
  {
   "cell_type": "code",
   "execution_count": null,
   "metadata": {
    "collapsed": true
   },
   "outputs": [],
   "source": []
  },
  {
   "cell_type": "code",
   "execution_count": null,
   "metadata": {
    "collapsed": true
   },
   "outputs": [],
   "source": []
  },
  {
   "cell_type": "code",
   "execution_count": null,
   "metadata": {
    "collapsed": true
   },
   "outputs": [],
   "source": []
  },
  {
   "cell_type": "markdown",
   "metadata": {},
   "source": [
    "### Anweisungen"
   ]
  },
  {
   "cell_type": "markdown",
   "metadata": {},
   "source": [
    "- Eine Anweisung (Statement) ist ein Stück Programmcode, welches keinen Wert zurück liefert\n",
    "- Anweisungen modifizieren Daten oder machen etwas außerhalb der Bereichs der Anwendung (auf die Konsole schreiben, Datenbank- und Netzzugriffe, GUI,...)\n",
    "- Anweisungen produzieren Seiteneffekte !!!\n",
    "- Anweisungen werden in Scala wie Ausdrücke behandelt\n",
    "- Da Anweisungen keine Daten zurückliefen, hat ein Ausdruck den künstlichen Datentyp Unit \n",
    "- Unit umfasst nur einen Wert und kann somit keine Informationen speichern"
   ]
  },
  {
   "cell_type": "code",
   "execution_count": null,
   "metadata": {
    "collapsed": false
   },
   "outputs": [],
   "source": [
    "println(\"Dies ist eine Anweisung\") //Anweisung"
   ]
  },
  {
   "cell_type": "code",
   "execution_count": null,
   "metadata": {
    "collapsed": false
   },
   "outputs": [],
   "source": [
    "val z: String=\"Dies ist eine Anweisung\" //Anweisung"
   ]
  },
  {
   "cell_type": "code",
   "execution_count": null,
   "metadata": {
    "collapsed": false
   },
   "outputs": [],
   "source": [
    "var y: Int=123 //Anweisung"
   ]
  },
  {
   "cell_type": "code",
   "execution_count": null,
   "metadata": {
    "collapsed": false
   },
   "outputs": [],
   "source": [
    "\"Dies ist ein Ausdruck\" //Ausdruck"
   ]
  },
  {
   "cell_type": "code",
   "execution_count": null,
   "metadata": {
    "collapsed": false
   },
   "outputs": [],
   "source": [
    "{val z: String=\"Dies ist eine Anweisung\"} //Anweisung"
   ]
  },
  {
   "cell_type": "code",
   "execution_count": null,
   "metadata": {
    "collapsed": false
   },
   "outputs": [],
   "source": [
    "z //Ausdruck"
   ]
  },
  {
   "cell_type": "code",
   "execution_count": null,
   "metadata": {
    "collapsed": false
   },
   "outputs": [],
   "source": [
    "{var y: Int=123} //Anweisung"
   ]
  },
  {
   "cell_type": "code",
   "execution_count": null,
   "metadata": {
    "collapsed": false
   },
   "outputs": [],
   "source": [
    "y"
   ]
  },
  {
   "cell_type": "code",
   "execution_count": null,
   "metadata": {
    "collapsed": true
   },
   "outputs": [],
   "source": []
  },
  {
   "cell_type": "code",
   "execution_count": null,
   "metadata": {
    "collapsed": true
   },
   "outputs": [],
   "source": []
  },
  {
   "cell_type": "markdown",
   "metadata": {},
   "source": [
    "### Blöcke"
   ]
  },
  {
   "cell_type": "markdown",
   "metadata": {},
   "source": [
    "- Mehrere Ausdrücke können durch geschweifte Klammern zu einem Blockausdruck (Block) zusammengefasst werden\n",
    "- Ein Block ist zugleich auch ein Ausdruck\n",
    "- Verwendung von Blöcken: Schleifen, Bedingungen, Methodenrumpf, Klassenrumpf, Objektrumpf, alleinstehend\n",
    "- Nesting: Einbettung eines Blockes in einem anderen Block\n",
    "- Sichtbarkeitsbereich (Scope): die im Block definierten Variablen und Konstanten sind nur innerhalb des Blockes gültig\n",
    "- Der letzte in einem Block befindliche Ausdruck repräsentiert den Wert des Ausdruckes und gibt den Datentyp des Blockes vor"
   ]
  },
  {
   "cell_type": "code",
   "execution_count": null,
   "metadata": {
    "collapsed": false
   },
   "outputs": [],
   "source": [
    "val x=50*20"
   ]
  },
  {
   "cell_type": "code",
   "execution_count": null,
   "metadata": {
    "collapsed": false
   },
   "outputs": [],
   "source": [
    "{val x=5*20}"
   ]
  },
  {
   "cell_type": "code",
   "execution_count": null,
   "metadata": {
    "collapsed": false
   },
   "outputs": [],
   "source": [
    "{println(\"Hello\"); \"Hello World\"}"
   ]
  },
  {
   "cell_type": "code",
   "execution_count": null,
   "metadata": {
    "collapsed": false
   },
   "outputs": [],
   "source": [
    "{\"Hello World\"; println(\"Hello\")}"
   ]
  },
  {
   "cell_type": "code",
   "execution_count": null,
   "metadata": {
    "collapsed": false
   },
   "outputs": [],
   "source": [
    "{val a=1; {val b=a*2; {val c=b+4; c}}}"
   ]
  },
  {
   "cell_type": "code",
   "execution_count": null,
   "metadata": {
    "collapsed": true
   },
   "outputs": [],
   "source": []
  },
  {
   "cell_type": "code",
   "execution_count": null,
   "metadata": {
    "collapsed": true
   },
   "outputs": [],
   "source": []
  },
  {
   "cell_type": "code",
   "execution_count": null,
   "metadata": {
    "collapsed": true
   },
   "outputs": [],
   "source": []
  },
  {
   "cell_type": "markdown",
   "metadata": {},
   "source": [
    "### if...else"
   ]
  },
  {
   "cell_type": "markdown",
   "metadata": {},
   "source": [
    "- if...else vergleichbar zu anderen Programmiersprachen\n",
    "- else-Block ist optional\n",
    "- Kein else-if-Block (stattdessen {if..else{if...}})\n",
    "- Kein ternärer Operator condition ? value_if_true : value_if_false notwendig, stattdessen direkte Zuweisung eines if...else-Ausdrucks einer Variablen oder Konstante (1) \n",
    "- if...else ist in Scala ein Ausdruck\n",
    "- Datentyp entspricht dem gemeinsamen Datentyp der Ausdrücke im if-und else-Block (2)"
   ]
  },
  {
   "cell_type": "code",
   "execution_count": null,
   "metadata": {
    "collapsed": false
   },
   "outputs": [],
   "source": [
    "val x=0"
   ]
  },
  {
   "cell_type": "code",
   "execution_count": null,
   "metadata": {
    "collapsed": false
   },
   "outputs": [],
   "source": [
    "if (x>0) 1 else -1"
   ]
  },
  {
   "cell_type": "code",
   "execution_count": null,
   "metadata": {
    "collapsed": false
   },
   "outputs": [],
   "source": [
    "val s=if (x>0) 1 else -1"
   ]
  },
  {
   "cell_type": "code",
   "execution_count": null,
   "metadata": {
    "collapsed": false
   },
   "outputs": [],
   "source": [
    "if (x>0) \"positive\" else -1"
   ]
  },
  {
   "cell_type": "code",
   "execution_count": null,
   "metadata": {
    "collapsed": true
   },
   "outputs": [],
   "source": []
  },
  {
   "cell_type": "code",
   "execution_count": null,
   "metadata": {
    "collapsed": true
   },
   "outputs": [],
   "source": []
  },
  {
   "cell_type": "code",
   "execution_count": null,
   "metadata": {
    "collapsed": true
   },
   "outputs": [],
   "source": []
  },
  {
   "cell_type": "markdown",
   "metadata": {},
   "source": [
    "### Match-Ausdrücke"
   ]
  },
  {
   "cell_type": "markdown",
   "metadata": {},
   "source": [
    "- Alternative zu if...else-Ausdrücken\n",
    "- Ein Ausdruck wird mit mehreren Mustern (Patterns) verglichen\n",
    "- Der Ausdruck hinter dem Muster mit der ersten Übereinstimmung wird ausgeführt\n",
    "- Entspricht der switch-Anweisung in Java\n",
    "- Unterschied: Abbruch nach dem ersten Muster mit Übereinstimmung, Ausführung mehrerer Ausdrücke bei Übereinstimmung mit mehreren Mustern nicht möglich "
   ]
  },
  {
   "cell_type": "code",
   "execution_count": null,
   "metadata": {
    "collapsed": false
   },
   "outputs": [],
   "source": [
    "val x=10; val y=20"
   ]
  },
  {
   "cell_type": "code",
   "execution_count": null,
   "metadata": {
    "collapsed": false
   },
   "outputs": [],
   "source": [
    "val max=x>y match {\n",
    "    case true=>x\n",
    "    case false=>y\n",
    "}"
   ]
  },
  {
   "cell_type": "code",
   "execution_count": null,
   "metadata": {
    "collapsed": false
   },
   "outputs": [],
   "source": [
    "val status=500"
   ]
  },
  {
   "cell_type": "code",
   "execution_count": null,
   "metadata": {
    "collapsed": false
   },
   "outputs": [],
   "source": [
    "val message=status match {\n",
    "    case 200 => \"ok\"\n",
    "    case 400 => {\n",
    "        println(\"Error - we called the service incorrectly\")\n",
    "        \"error\"\n",
    "    }\n",
    "    case 500 => {\n",
    "        println(\"Error - the service encountered an error\")\n",
    "        \"error\"\n",
    "    }\n",
    "}"
   ]
  },
  {
   "cell_type": "code",
   "execution_count": null,
   "metadata": {
    "collapsed": true
   },
   "outputs": [],
   "source": []
  },
  {
   "cell_type": "code",
   "execution_count": null,
   "metadata": {
    "collapsed": true
   },
   "outputs": [],
   "source": []
  },
  {
   "cell_type": "code",
   "execution_count": null,
   "metadata": {
    "collapsed": true
   },
   "outputs": [],
   "source": []
  },
  {
   "cell_type": "markdown",
   "metadata": {},
   "source": [
    "### for-Schleifen"
   ]
  },
  {
   "cell_type": "markdown",
   "metadata": {},
   "source": [
    "- for-Schleifen iterieren über einen Wertebereich und führen bei jeder Iteration einen Ausdruck aus, dessen berechneter Wert optional in eine Collection geschrieben werden kann\n",
    "- to-Operator erzeugt eine inklusive Liste, until-Operator eine exklusive Liste\n",
    "- Durch Angabe von yield wird der errechnete Wert des Ausdrucks in eine Collection geschrieben"
   ]
  },
  {
   "cell_type": "code",
   "execution_count": null,
   "metadata": {
    "collapsed": false
   },
   "outputs": [],
   "source": [
    "for (x <- 1 to 7){println(s\"Day: $x\")}"
   ]
  },
  {
   "cell_type": "code",
   "execution_count": null,
   "metadata": {
    "collapsed": false
   },
   "outputs": [],
   "source": [
    "for (x <- 1 until 7){println(s\"Day: $x\")}"
   ]
  },
  {
   "cell_type": "code",
   "execution_count": null,
   "metadata": {
    "collapsed": false
   },
   "outputs": [],
   "source": [
    "for (x <- 1 to 7) yield {s\"Day: $x\"}"
   ]
  },
  {
   "cell_type": "markdown",
   "metadata": {},
   "source": [
    "Iterator Guards verbinden in einer for-Schleife den Iterator mit einem if-Ausdruck, um bestimmte Iterationen zu filtern"
   ]
  },
  {
   "cell_type": "code",
   "execution_count": null,
   "metadata": {
    "collapsed": false
   },
   "outputs": [],
   "source": [
    "val threes=for (i <- 1 to 20 if i%3==0) yield i"
   ]
  },
  {
   "cell_type": "code",
   "execution_count": null,
   "metadata": {
    "collapsed": false
   },
   "outputs": [],
   "source": [
    "val quote=\"Faith, Hope,, Charity\""
   ]
  },
  {
   "cell_type": "code",
   "execution_count": null,
   "metadata": {
    "collapsed": false
   },
   "outputs": [],
   "source": [
    "for (t<-quote.split(\",\") if t!=null if t.size>0) println(t)"
   ]
  },
  {
   "cell_type": "markdown",
   "metadata": {},
   "source": [
    "Eingebettete Iteratoren (Nested Iterators) verhalten sich wie ineinander geschachtelte for-Schleifen "
   ]
  },
  {
   "cell_type": "code",
   "execution_count": null,
   "metadata": {
    "collapsed": false
   },
   "outputs": [],
   "source": [
    "for (x <- 1 to 2; y <- 1 to 3) {\n",
    "    print(s\"($x, $y)\")\n",
    "}"
   ]
  },
  {
   "cell_type": "code",
   "execution_count": null,
   "metadata": {
    "collapsed": true
   },
   "outputs": [],
   "source": []
  },
  {
   "cell_type": "code",
   "execution_count": null,
   "metadata": {
    "collapsed": true
   },
   "outputs": [],
   "source": []
  },
  {
   "cell_type": "markdown",
   "metadata": {},
   "source": [
    "### While und Do-While-Schleifen"
   ]
  },
  {
   "cell_type": "code",
   "execution_count": null,
   "metadata": {
    "collapsed": false
   },
   "outputs": [],
   "source": [
    "var x=10; while (x>0) x-=1"
   ]
  },
  {
   "cell_type": "code",
   "execution_count": null,
   "metadata": {
    "collapsed": false
   },
   "outputs": [],
   "source": [
    "val x=0"
   ]
  },
  {
   "cell_type": "code",
   "execution_count": null,
   "metadata": {
    "collapsed": false
   },
   "outputs": [],
   "source": [
    "do println(s\"Here I am, x=$x\") while (x>0)"
   ]
  },
  {
   "cell_type": "code",
   "execution_count": null,
   "metadata": {
    "collapsed": true
   },
   "outputs": [],
   "source": []
  },
  {
   "cell_type": "code",
   "execution_count": null,
   "metadata": {
    "collapsed": true
   },
   "outputs": [],
   "source": []
  },
  {
   "cell_type": "code",
   "execution_count": null,
   "metadata": {
    "collapsed": true
   },
   "outputs": [],
   "source": []
  },
  {
   "cell_type": "code",
   "execution_count": null,
   "metadata": {
    "collapsed": true
   },
   "outputs": [],
   "source": []
  },
  {
   "cell_type": "code",
   "execution_count": null,
   "metadata": {
    "collapsed": true
   },
   "outputs": [],
   "source": []
  }
 ],
 "metadata": {
  "kernelspec": {
   "display_name": "Scala 2.11",
   "language": "scala211",
   "name": "scala211"
  },
  "language_info": {
   "codemirror_mode": "text/x-scala",
   "file_extension": ".scala",
   "mimetype": "text/x-scala",
   "name": "scala211",
   "pygments_lexer": "scala",
   "version": "2.11.8"
  }
 },
 "nbformat": 4,
 "nbformat_minor": 0
}
