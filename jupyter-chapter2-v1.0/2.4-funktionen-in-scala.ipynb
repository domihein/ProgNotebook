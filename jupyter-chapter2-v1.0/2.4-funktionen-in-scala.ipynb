{
 "cells": [
  {
   "cell_type": "markdown",
   "metadata": {},
   "source": [
    "# Kapitel 4"
   ]
  },
  {
   "cell_type": "markdown",
   "metadata": {},
   "source": [
    "# 4.1 Funktionen in Scala"
   ]
  },
  {
   "cell_type": "markdown",
   "metadata": {},
   "source": [
    "- Funktionen in Scala sind benannte, wiederverwendbare Ausdrücke\n",
    "- Können optional parametrisiert sein und einen Rückgabewert liefern\n",
    "- Unterscheidung zwischen reinen und nicht-reinen Funktionen\n",
    "- Reine Funktionen entsprechen Funktionen aus der Mathematik\n",
    "- Reine Funktionen sind stabiler als nicht-reine, da sie zustandslos sind und keine Seiteneffekte produzieren\n",
    "- Andererseits: es ist schwierig Programme zu schreiben, die ausschließlich auf reinen Funktionen basieren\n",
    "- Dateizugriffe, Datenbankoperationen, Graphical User Interfaces, Netzwerkübertragungen sind inherent nicht-rein, da sie Daten von außerhalb der Funktion beziehen und nicht zustandslos sind\n",
    "- Bewusster Einsatz von reinen und nicht-reinen Funktionen\n",
    "- Vorzugsweise Verwendung reiner Funktionen wenn möglich\n",
    "- Klare und bewusste Abgrenzung von reinen und nicht-reinen Funktionen"
   ]
  },
  {
   "cell_type": "markdown",
   "metadata": {},
   "source": [
    "## Eigenschaften reiner Funktionen\n",
    "\n",
    "- Haben einen oder mehrere Eingabeparameter\n",
    "- Führen Berechnungen ausschließlich basierend auf Eingabeparametern aus\n",
    "- Liefern einen Wert zurück\n",
    "- Liefern immer den gleichen Wert für die gleiche Eingabe\n",
    "- Nutzen oder beeinflussen keinerlei Daten außerhalb der Funktion\n",
    "- Keine Beeinflussung von Daten außerhalb der Funktion"
   ]
  },
  {
   "cell_type": "markdown",
   "metadata": {},
   "source": [
    "## Aufbau von Funktionen\n",
    "\n",
    "- Eingabeparameter und Rückgabeparameter optional\n",
    "- Definition des Rückgabetyps optional (Type Inference)\n",
    "- Rumpf einer Funktion besteht aus Ausdrücken bzw. Blöcken von Ausdrücken\n",
    "- Letzte Zeile des Rumpfs repräsentiert den Rückgabewert\n",
    "- Kennzeichnung des Rückgabewertes mit dem Schlüsselwort return unüblich\n",
    "- Verwendung von return nur bei vorzeitiger Beendigung der Funktion, z.B. im Rahmen eines if-then-else-Ausdrucks "
   ]
  },
  {
   "cell_type": "code",
   "execution_count": 1,
   "metadata": {
    "collapsed": false
   },
   "outputs": [
    {
     "data": {
      "text/plain": [
       "defined \u001b[32mfunction\u001b[39m \u001b[36mhi\u001b[39m"
      ]
     },
     "execution_count": 1,
     "metadata": {},
     "output_type": "execute_result"
    }
   ],
   "source": [
    "def hi=\"hi\""
   ]
  },
  {
   "cell_type": "code",
   "execution_count": 2,
   "metadata": {
    "collapsed": false
   },
   "outputs": [
    {
     "data": {
      "text/plain": [
       "\u001b[36mres1\u001b[39m: \u001b[32mString\u001b[39m = \u001b[32m\"hi\"\u001b[39m"
      ]
     },
     "execution_count": 2,
     "metadata": {},
     "output_type": "execute_result"
    }
   ],
   "source": [
    "hi"
   ]
  },
  {
   "cell_type": "code",
   "execution_count": 3,
   "metadata": {
    "collapsed": false
   },
   "outputs": [
    {
     "data": {
      "text/plain": [
       "defined \u001b[32mfunction\u001b[39m \u001b[36mhi\u001b[39m"
      ]
     },
     "execution_count": 3,
     "metadata": {},
     "output_type": "execute_result"
    }
   ],
   "source": [
    "def hi: String=\"Hi\""
   ]
  },
  {
   "cell_type": "code",
   "execution_count": 4,
   "metadata": {
    "collapsed": false
   },
   "outputs": [
    {
     "data": {
      "text/plain": [
       "defined \u001b[32mfunction\u001b[39m \u001b[36mmultiplier\u001b[39m"
      ]
     },
     "execution_count": 4,
     "metadata": {},
     "output_type": "execute_result"
    }
   ],
   "source": [
    "def multiplier(x: Int, y: Int): Int={x*y}"
   ]
  },
  {
   "cell_type": "code",
   "execution_count": 5,
   "metadata": {
    "collapsed": false
   },
   "outputs": [
    {
     "data": {
      "text/plain": [
       "\u001b[36mres4\u001b[39m: \u001b[32mInt\u001b[39m = \u001b[32m14\u001b[39m"
      ]
     },
     "execution_count": 5,
     "metadata": {},
     "output_type": "execute_result"
    }
   ],
   "source": [
    "multiplier(7,2)"
   ]
  },
  {
   "cell_type": "code",
   "execution_count": null,
   "metadata": {
    "collapsed": true
   },
   "outputs": [],
   "source": []
  },
  {
   "cell_type": "code",
   "execution_count": null,
   "metadata": {
    "collapsed": true
   },
   "outputs": [],
   "source": []
  },
  {
   "cell_type": "markdown",
   "metadata": {},
   "source": [
    "## Funktionen mit leeren Klammern\n",
    "\n",
    "- Funktionen ohne Eingabeparameter können explizit mit leeren Klammern definiert werden\n",
    "- Vorteil: Klare Unterscheidung zwischen Funktion und Wert\n",
    "- Beachte: Scala erlaubt es nicht, eine Funktion, die ohne leere Klammern definiert wurde, mit leeren Klammern aufzurufen\n",
    "- Begründung: es wäre nicht erkennbar, ob eine Funktion hi() aufgerufen würde oder der Rückgabewert der Funktion als Funktion\n",
    "- Übliche Konvention: Nicht-pure Funktionen ohne Eingabeparameter (also der Modifikation von Daten außerhalb der Funktion) sollten mit Klammerschreibweise kenntlich gemacht werden"
   ]
  },
  {
   "cell_type": "code",
   "execution_count": 6,
   "metadata": {
    "collapsed": false
   },
   "outputs": [
    {
     "data": {
      "text/plain": [
       "defined \u001b[32mfunction\u001b[39m \u001b[36mhi\u001b[39m"
      ]
     },
     "execution_count": 6,
     "metadata": {},
     "output_type": "execute_result"
    }
   ],
   "source": [
    "def hi(): String=\"Hi\""
   ]
  },
  {
   "cell_type": "code",
   "execution_count": 7,
   "metadata": {
    "collapsed": false
   },
   "outputs": [
    {
     "data": {
      "text/plain": [
       "\u001b[36mres6\u001b[39m: \u001b[32mString\u001b[39m = \u001b[32m\"Hi\"\u001b[39m"
      ]
     },
     "execution_count": 7,
     "metadata": {},
     "output_type": "execute_result"
    }
   ],
   "source": [
    "hi()"
   ]
  },
  {
   "cell_type": "code",
   "execution_count": 8,
   "metadata": {
    "collapsed": false
   },
   "outputs": [
    {
     "data": {
      "text/plain": [
       "\u001b[36mres7\u001b[39m: \u001b[32mString\u001b[39m = \u001b[32m\"Hi\"\u001b[39m"
      ]
     },
     "execution_count": 8,
     "metadata": {},
     "output_type": "execute_result"
    }
   ],
   "source": [
    "hi"
   ]
  },
  {
   "cell_type": "code",
   "execution_count": 9,
   "metadata": {
    "collapsed": false
   },
   "outputs": [
    {
     "data": {
      "text/plain": [
       "defined \u001b[32mfunction\u001b[39m \u001b[36mhi\u001b[39m"
      ]
     },
     "execution_count": 9,
     "metadata": {},
     "output_type": "execute_result"
    }
   ],
   "source": [
    "def hi: String=\"hi\""
   ]
  },
  {
   "cell_type": "code",
   "execution_count": 9,
   "metadata": {
    "collapsed": false
   },
   "outputs": [
    {
     "name": "stderr",
     "output_type": "stream",
     "text": [
      "cmd9.sc:1: not enough arguments for method apply: (index: Int)Char in class StringOps.\n",
      "Unspecified value parameter index.\n",
      "val res9 = hi()\n",
      "             ^"
     ]
    },
    {
     "ename": "",
     "evalue": "",
     "output_type": "error",
     "traceback": [
      "Compilation Failed"
     ]
    }
   ],
   "source": [
    "hi()"
   ]
  },
  {
   "cell_type": "code",
   "execution_count": null,
   "metadata": {
    "collapsed": true
   },
   "outputs": [],
   "source": []
  },
  {
   "cell_type": "code",
   "execution_count": null,
   "metadata": {
    "collapsed": true
   },
   "outputs": [],
   "source": []
  },
  {
   "cell_type": "markdown",
   "metadata": {},
   "source": [
    "## Prozeduren\n",
    "\n",
    "- Prozeduren sind Funktionen ohne Rückgabewert\n",
    "- Jede Funktion, die mit einer Anweisung endet, ist eine Prozedur\n",
    "- Anweisungen werden durch Scala als Typ Unit abgeleitet, ein künstlicher Datentyp, der das Fehlen eines Wertes repräsentiert\n",
    "- Empfehlung: Prozeduren sollten explizit mit Unit als Rückgabetyp gekennzeichnet werden (1)"
   ]
  },
  {
   "cell_type": "code",
   "execution_count": 10,
   "metadata": {
    "collapsed": false
   },
   "outputs": [
    {
     "data": {
      "text/plain": [
       "defined \u001b[32mfunction\u001b[39m \u001b[36mround\u001b[39m"
      ]
     },
     "execution_count": 10,
     "metadata": {},
     "output_type": "execute_result"
    }
   ],
   "source": [
    "def round(d: Double)=println(f\"Got value $d%.2f\")"
   ]
  },
  {
   "cell_type": "code",
   "execution_count": 11,
   "metadata": {
    "collapsed": false
   },
   "outputs": [
    {
     "name": "stdout",
     "output_type": "stream",
     "text": [
      "Got value 2,55\n"
     ]
    }
   ],
   "source": [
    "round(2.55454)"
   ]
  },
  {
   "cell_type": "code",
   "execution_count": 12,
   "metadata": {
    "collapsed": false
   },
   "outputs": [
    {
     "data": {
      "text/plain": [
       "defined \u001b[32mfunction\u001b[39m \u001b[36mround\u001b[39m"
      ]
     },
     "execution_count": 12,
     "metadata": {},
     "output_type": "execute_result"
    }
   ],
   "source": [
    "def round(d: Double): Unit=println(f\"Got value $d%.2f\")"
   ]
  },
  {
   "cell_type": "code",
   "execution_count": 13,
   "metadata": {
    "collapsed": false
   },
   "outputs": [
    {
     "name": "stdout",
     "output_type": "stream",
     "text": [
      "Got value 2,55\n"
     ]
    }
   ],
   "source": [
    "round(2.55454)"
   ]
  },
  {
   "cell_type": "code",
   "execution_count": null,
   "metadata": {
    "collapsed": true
   },
   "outputs": [],
   "source": []
  },
  {
   "cell_type": "code",
   "execution_count": null,
   "metadata": {
    "collapsed": true
   },
   "outputs": [],
   "source": []
  },
  {
   "cell_type": "markdown",
   "metadata": {},
   "source": [
    "## Aufruf einer Funktion mit einem Blockausdruck\n",
    "\n",
    "- Funktionen können statt mit einer Eingabevariablen (1) auch mit einem Blockausdruck (2) aufgerufen werden\n",
    "- Vorteilhaft wenn der Eingabeparameter bei Funktionsaufruf nicht bekannt ist\n",
    "- Blockausdruck wird zur Berechnung des Wertes des Eingabeparameters verwendet - eine Speicherung in einer lokalen Variable ist nicht notwendig  "
   ]
  },
  {
   "cell_type": "code",
   "execution_count": null,
   "metadata": {
    "collapsed": false
   },
   "outputs": [],
   "source": [
    "def formatEuro(amount: Double)=f\"€$amount%.2f\""
   ]
  },
  {
   "cell_type": "code",
   "execution_count": null,
   "metadata": {
    "collapsed": false
   },
   "outputs": [],
   "source": [
    "formatEuro(2.56)"
   ]
  },
  {
   "cell_type": "code",
   "execution_count": null,
   "metadata": {
    "collapsed": false
   },
   "outputs": [],
   "source": [
    "formatEuro{val rate=1.32; 0.235+0.7123+rate*5.32}"
   ]
  },
  {
   "cell_type": "code",
   "execution_count": null,
   "metadata": {
    "collapsed": true
   },
   "outputs": [],
   "source": []
  },
  {
   "cell_type": "code",
   "execution_count": null,
   "metadata": {
    "collapsed": true
   },
   "outputs": [],
   "source": []
  },
  {
   "cell_type": "markdown",
   "metadata": {},
   "source": [
    "## Rekursive Funktionen\n",
    "\n",
    "- Rekursive Funktionen rufen sich selber erneut auf\n",
    "- Vorteilhaft bei der Iteration und Berechnung auf  Datenstrukturen (Collections) da keine veränderbaren Daten (Mutable Data) erzeugt werden\n",
    "- Beachte: jeder Funktionsaufruf verfügt über seinen eigenen Stack-Speicher\n",
    "- Abbruchbedingung zusammen mit einem Zähler als Eingabeparameter beendet die Funktionsaufrufe nach einer bestimmten Rekursionstiefe\n",
    "\n",
    "Problem Stack-Overflow\n",
    "\n",
    "- Zu viele rekursive Funktionsaufrufe können zu einem Überlauf des allokierten Stack-Speichers der JVM führen\n",
    "- Lösung Endrekursion zur Optimierung rekursiver Funktionen"
   ]
  },
  {
   "cell_type": "code",
   "execution_count": 14,
   "metadata": {
    "collapsed": false
   },
   "outputs": [
    {
     "data": {
      "text/plain": [
       "defined \u001b[32mfunction\u001b[39m \u001b[36mpower\u001b[39m"
      ]
     },
     "execution_count": 14,
     "metadata": {},
     "output_type": "execute_result"
    }
   ],
   "source": [
    "def power(x: Int, n: Int): Long={\n",
    "\n",
    "    if (n>=1) x*power(x, n-1)\n",
    "    else 1\n",
    "}"
   ]
  },
  {
   "cell_type": "code",
   "execution_count": 25,
   "metadata": {
    "collapsed": false
   },
   "outputs": [
    {
     "data": {
      "text/plain": [
       "\u001b[36mres24\u001b[39m: \u001b[32mLong\u001b[39m = \u001b[32m0L\u001b[39m"
      ]
     },
     "execution_count": 25,
     "metadata": {},
     "output_type": "execute_result"
    }
   ],
   "source": [
    "power(2,64)"
   ]
  },
  {
   "cell_type": "code",
   "execution_count": 16,
   "metadata": {
    "collapsed": false
   },
   "outputs": [
    {
     "data": {
      "text/plain": [
       "\u001b[36mres15\u001b[39m: \u001b[32mLong\u001b[39m = \u001b[32m2L\u001b[39m"
      ]
     },
     "execution_count": 16,
     "metadata": {},
     "output_type": "execute_result"
    }
   ],
   "source": [
    "power(2,1)"
   ]
  },
  {
   "cell_type": "code",
   "execution_count": 17,
   "metadata": {
    "collapsed": false
   },
   "outputs": [
    {
     "data": {
      "text/plain": [
       "\u001b[36mres16\u001b[39m: \u001b[32mLong\u001b[39m = \u001b[32m1L\u001b[39m"
      ]
     },
     "execution_count": 17,
     "metadata": {},
     "output_type": "execute_result"
    }
   ],
   "source": [
    "power(2,0)"
   ]
  },
  {
   "cell_type": "code",
   "execution_count": null,
   "metadata": {
    "collapsed": true
   },
   "outputs": [],
   "source": []
  },
  {
   "cell_type": "code",
   "execution_count": null,
   "metadata": {
    "collapsed": true
   },
   "outputs": [],
   "source": []
  },
  {
   "cell_type": "markdown",
   "metadata": {},
   "source": [
    "## Endrekursion\n",
    "\n",
    "- Eine rekursive Funktion ist endrekursiv (tail recursive), wenn der rekursive Funktionsaufruf die letzte Aktion zur Berechnung der Funktion ist\n",
    "- Vorteil: der für die betrachtete Iteration des Funktionsaufrufs allokierte Stack-Speicher kann für die nächste Iteration wiederverwendet werden\n",
    "- Rekursiver Abstieg: innerhalb der Iteration n wird die Iteration   n+1 der rekursiven Funktion aufgerufen\n",
    "- Rekursive Aufstieg: Iteration n+1 ist beendet und gibt die Kontrolle an Iteration n zurück\n",
    "- Bei rekursiven Funktionen mit Endrekursion muss der Zustand einer Iteration nicht im Stack bewahrt werden, da beim rekursiven Aufstieg keine Berechnungen mehr durchgeführt werden   \n",
    "- Der Funktionsaufruf zum rekursiven Abstieg war die letzte Aktion jeder Iteration"
   ]
  },
  {
   "cell_type": "markdown",
   "metadata": {},
   "source": [
    "Fehler: Funktionsaufruf ist nicht der letzte Ausdruck:"
   ]
  },
  {
   "cell_type": "code",
   "execution_count": 26,
   "metadata": {
    "collapsed": false
   },
   "outputs": [
    {
     "data": {
      "text/plain": [
       "defined \u001b[32mfunction\u001b[39m \u001b[36mpower2\u001b[39m"
      ]
     },
     "execution_count": 26,
     "metadata": {},
     "output_type": "execute_result"
    }
   ],
   "source": [
    "def power2(x: Int, n: Int): Long={\n",
    "    if (n<1) 1\n",
    "    else x*power2(x, n-1)\n",
    "}"
   ]
  },
  {
   "cell_type": "code",
   "execution_count": null,
   "metadata": {
    "collapsed": true
   },
   "outputs": [],
   "source": [
    "Richtige Endrekursion"
   ]
  },
  {
   "cell_type": "code",
   "execution_count": 27,
   "metadata": {
    "collapsed": false
   },
   "outputs": [
    {
     "data": {
      "text/plain": [
       "defined \u001b[32mfunction\u001b[39m \u001b[36mpower3\u001b[39m"
      ]
     },
     "execution_count": 27,
     "metadata": {},
     "output_type": "execute_result"
    }
   ],
   "source": [
    "def power3(x: Int, n: Int, t: Int=1): Long={\n",
    "    if (n<1) t\n",
    "    else power3(x, n-1, x*t)\n",
    "}"
   ]
  },
  {
   "cell_type": "code",
   "execution_count": null,
   "metadata": {
    "collapsed": true
   },
   "outputs": [],
   "source": []
  },
  {
   "cell_type": "code",
   "execution_count": null,
   "metadata": {
    "collapsed": true
   },
   "outputs": [],
   "source": []
  },
  {
   "cell_type": "markdown",
   "metadata": {},
   "source": [
    "## Funktionsaufrufe mit Parameternamen\n",
    "\n",
    "- Funktionsaufrufe erfordern standardmäßig die Übergabe von Parametern in der Reihenfolge ihrer Definition im Funktionskopf\n",
    "- Durch Angabe der Parameternamen beim Funktionsaufruf können Eingabeparameter in beliebiger Reihenfolge angegeben werden"
   ]
  },
  {
   "cell_type": "code",
   "execution_count": null,
   "metadata": {
    "collapsed": false
   },
   "outputs": [],
   "source": [
    "def greet(prefix: String, name: String)=s\"$prefix $name\""
   ]
  },
  {
   "cell_type": "code",
   "execution_count": null,
   "metadata": {
    "collapsed": false
   },
   "outputs": [],
   "source": [
    "val greeting=greet(\"Ms\", \"Brown\")"
   ]
  },
  {
   "cell_type": "code",
   "execution_count": null,
   "metadata": {
    "collapsed": false
   },
   "outputs": [],
   "source": [
    "val greeting2=greet(name=\"Brown\", prefix=\"Ms\")"
   ]
  },
  {
   "cell_type": "code",
   "execution_count": null,
   "metadata": {
    "collapsed": true
   },
   "outputs": [],
   "source": []
  },
  {
   "cell_type": "code",
   "execution_count": null,
   "metadata": {
    "collapsed": true
   },
   "outputs": [],
   "source": []
  },
  {
   "cell_type": "markdown",
   "metadata": {},
   "source": [
    "## Parameter mit Default-Werten\n",
    "\n",
    "- Function Overloading: gängiges Konzept in anderen Programmiersprachen bei denen Funktionen mit den gleichen Namen aber verschiedenen Kombinationen von Eingabeparametern mehrfach definiert werden\n",
    "- Eingabeparameter können in Scala bei der Definition von Funktionen mit Default-Werten vorbelegt werden\n",
    "- Function Overloading wird daher in Scala nicht benötigt"
   ]
  },
  {
   "cell_type": "code",
   "execution_count": null,
   "metadata": {
    "collapsed": false
   },
   "outputs": [],
   "source": [
    "def greet(prefix: String=\"\", name: String)=s\"$prefix $name\""
   ]
  },
  {
   "cell_type": "code",
   "execution_count": null,
   "metadata": {
    "collapsed": false
   },
   "outputs": [],
   "source": [
    "val greeting=greet(name=\"Paul\")"
   ]
  },
  {
   "cell_type": "code",
   "execution_count": null,
   "metadata": {
    "collapsed": false
   },
   "outputs": [],
   "source": [
    "val greeting2=greet(\"Mr\", \"Brown\")"
   ]
  },
  {
   "cell_type": "code",
   "execution_count": null,
   "metadata": {
    "collapsed": true
   },
   "outputs": [],
   "source": []
  },
  {
   "cell_type": "code",
   "execution_count": null,
   "metadata": {
    "collapsed": true
   },
   "outputs": [],
   "source": []
  },
  {
   "cell_type": "markdown",
   "metadata": {},
   "source": [
    "## Methoden und Operatoren\n",
    "\n",
    "- Funktionen existieren in Objekten und werden daher auch als Methoden bezeichnet\n",
    "- Methoden werden in Klassen definiert und sind in allen Instanzen ihrer jeweiligen Klasse verfügbar\n",
    "- Operatoren sind Symbole oder Schlüsselwörter, welche eine Rechenoperation repräsentieren\n",
    "- Zwei Notationen zum Aufruf von Methoden: Infix-Punkt- und Operator-Notation\n",
    "\n",
    "Infix-Punkt-Notation\n",
    "\n",
    "- Methodenname und Parameterliste werden durch Punkt-Trennsymbol vom Namen der Objektinstanz getrennt\n",
    "- Methodenaufrufe ohne Eingabeparameter\n",
    "- Methodenaufruf mit Eingabeparameter\n",
    "- Operatoren wie +, -, *, / sind zugleich Methodennamen und können daher in der Infix-Dot-Notation verwendet werden\n",
    "- Beachte: Scala kennt keine Operatoren\n",
    "- Operatoren sind Methoden die in Klassen definiert sind\n",
    "- Kann also die Operatorschreibweise nicht verwendet werden? "
   ]
  },
  {
   "cell_type": "code",
   "execution_count": 29,
   "metadata": {
    "collapsed": false
   },
   "outputs": [
    {
     "data": {
      "text/plain": [
       "\u001b[36md\u001b[39m: \u001b[32mDouble\u001b[39m = \u001b[32m65.642\u001b[39m"
      ]
     },
     "execution_count": 29,
     "metadata": {},
     "output_type": "execute_result"
    }
   ],
   "source": [
    "val d=65.642"
   ]
  },
  {
   "cell_type": "code",
   "execution_count": 30,
   "metadata": {
    "collapsed": false
   },
   "outputs": [
    {
     "data": {
      "text/plain": [
       "\u001b[36mres29\u001b[39m: \u001b[32mLong\u001b[39m = \u001b[32m66L\u001b[39m"
      ]
     },
     "execution_count": 30,
     "metadata": {},
     "output_type": "execute_result"
    }
   ],
   "source": [
    "d.round"
   ]
  },
  {
   "cell_type": "code",
   "execution_count": 31,
   "metadata": {
    "collapsed": false
   },
   "outputs": [
    {
     "data": {
      "text/plain": [
       "\u001b[36mres30\u001b[39m: \u001b[32mDouble\u001b[39m = \u001b[32m65.0\u001b[39m"
      ]
     },
     "execution_count": 31,
     "metadata": {},
     "output_type": "execute_result"
    }
   ],
   "source": [
    "d.floor"
   ]
  },
  {
   "cell_type": "code",
   "execution_count": null,
   "metadata": {
    "collapsed": false
   },
   "outputs": [],
   "source": [
    "d.compare(18.0)"
   ]
  },
  {
   "cell_type": "code",
   "execution_count": null,
   "metadata": {
    "collapsed": false
   },
   "outputs": [],
   "source": [
    "d.+(2.721)"
   ]
  },
  {
   "cell_type": "markdown",
   "metadata": {},
   "source": [
    "Operator-Notation\n",
    "\n",
    "- Methodenname trennt den Namen der Objektinstanz von den Parametern\n",
    "- Klassische Operatoren (+, -, *, /, &&, ==,...) können wahlweise in der Operator- oder Infix-Punkt-Notation verwendet werden - sie sind aber Methoden in Objekten\n",
    "- Alle anderen Methoden können ebenfalls wahlweise in der Operator- oder Infix-Punkt-Notation aufgerufen werden\n",
    "- Beachte: Methoden ohne Parameter sollten in der Infix-Punkt-Notation aufgerufen werden\n",
    "- Grund: Da Skala zur Kennzeichnung des Zeilenendes keines Semikolon verwendet, sucht der Compiler den Parameter in der nächsten Zeile \n",
    "- Mehrere Eingabeparameter werden als Liste in Klammern übergeben"
   ]
  },
  {
   "cell_type": "code",
   "execution_count": null,
   "metadata": {
    "collapsed": false
   },
   "outputs": [],
   "source": [
    "d compare 18.0"
   ]
  },
  {
   "cell_type": "code",
   "execution_count": null,
   "metadata": {
    "collapsed": false
   },
   "outputs": [],
   "source": [
    "d+2.721"
   ]
  },
  {
   "cell_type": "code",
   "execution_count": 39,
   "metadata": {
    "collapsed": false
   },
   "outputs": [
    {
     "data": {
      "text/plain": [
       "\u001b[36mres38\u001b[39m: \u001b[32mString\u001b[39m = \u001b[32m\"65.642\"\u001b[39m"
      ]
     },
     "execution_count": 39,
     "metadata": {},
     "output_type": "execute_result"
    }
   ],
   "source": [
    "d toString"
   ]
  },
  {
   "cell_type": "code",
   "execution_count": 39,
   "metadata": {
    "collapsed": false
   },
   "outputs": [
    {
     "name": "stderr",
     "output_type": "stream",
     "text": [
      "cmd39.sc:1: too many arguments for method toString: ()String\n",
      "val res39 = d toString\n",
      "              ^"
     ]
    },
    {
     "ename": "",
     "evalue": "",
     "output_type": "error",
     "traceback": [
      "Compilation Failed"
     ]
    }
   ],
   "source": [
    "d toString\n",
    "d+1"
   ]
  },
  {
   "cell_type": "code",
   "execution_count": null,
   "metadata": {
    "collapsed": false
   },
   "outputs": [],
   "source": [
    "val name=\"James Brown\""
   ]
  },
  {
   "cell_type": "code",
   "execution_count": null,
   "metadata": {
    "collapsed": false
   },
   "outputs": [],
   "source": [
    "name substring (0,5)"
   ]
  },
  {
   "cell_type": "code",
   "execution_count": 28,
   "metadata": {
    "collapsed": false
   },
   "outputs": [
    {
     "data": {
      "text/plain": [
       "defined \u001b[32mfunction\u001b[39m \u001b[36mhi\u001b[39m"
      ]
     },
     "execution_count": 28,
     "metadata": {},
     "output_type": "execute_result"
    }
   ],
   "source": []
  }
 ],
 "metadata": {
  "kernelspec": {
   "display_name": "Scala (develop)",
   "language": "scala",
   "name": "scala-develop"
  },
  "language_info": {
   "codemirror_mode": "text/x-scala",
   "file_extension": ".scala",
   "mimetype": "text/x-scala",
   "name": "scala211",
   "nbconvert_exporter": "script",
   "pygments_lexer": "scala",
   "version": "2.11.8"
  }
 },
 "nbformat": 4,
 "nbformat_minor": 0
}
